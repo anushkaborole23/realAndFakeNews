{
 "cells": [
  {
   "cell_type": "markdown",
   "id": "a0e2ab44",
   "metadata": {},
   "source": [
    "# REAL OR FAKE NEWS ANALYSIS"
   ]
  },
  {
   "cell_type": "markdown",
   "id": "91c333ec",
   "metadata": {},
   "source": [
    "ABOUT THE DATASET\n",
    "\n",
    "This dataset consists of about 40000 articles consisting of fake as well as real news. Our aim is train our model so that it can correctly predict whether a given piece of news is real or fake.The fake and real news data is given in two separate datasets with each dataset consisting around 20000 articles each."
   ]
  },
  {
   "cell_type": "markdown",
   "id": "1a07e45d",
   "metadata": {},
   "source": [
    "## Business Objective:"
   ]
  },
  {
   "cell_type": "markdown",
   "id": "d94df117",
   "metadata": {},
   "source": [
    "1.\tNeed to classify the fake and real news accurately.\n",
    "\n",
    "Architecture level analysis:\n",
    "\n",
    "1.\tData transformation/Text processing using Python\n",
    "2.\tNeed to get sentiments Analysis and n-gram analysis with some charts like histogram, Density plot, Barplot, pie-plot etc. \n",
    "3.\tDeployment through R Shiny or Flask/ Streamlit\n",
    "\n"
   ]
  },
  {
   "cell_type": "code",
   "execution_count": 1,
   "id": "0ba465d9",
   "metadata": {
    "ExecuteTime": {
     "end_time": "2023-07-06T17:18:48.587749Z",
     "start_time": "2023-07-06T17:18:17.242882Z"
    }
   },
   "outputs": [],
   "source": [
    "import pandas as pd \n",
    "import numpy as np \n",
    "import matplotlib.pyplot as plt\n",
    "import itertools\n",
    "import seaborn as sns\n",
    "import spacy\n",
    "import seaborn as sns"
   ]
  },
  {
   "cell_type": "code",
   "execution_count": 5,
   "id": "067eb4d6",
   "metadata": {
    "ExecuteTime": {
     "end_time": "2023-07-06T17:21:22.438002Z",
     "start_time": "2023-07-06T17:21:22.418016Z"
    }
   },
   "outputs": [
    {
     "data": {
      "text/plain": [
       "'3.5.3'"
      ]
     },
     "execution_count": 5,
     "metadata": {},
     "output_type": "execute_result"
    }
   ],
   "source": [
    "spacy.__version__"
   ]
  },
  {
   "cell_type": "code",
   "execution_count": 2,
   "id": "419e9864",
   "metadata": {
    "ExecuteTime": {
     "end_time": "2023-07-04T13:06:43.101334Z",
     "start_time": "2023-07-04T13:06:43.079940Z"
    }
   },
   "outputs": [],
   "source": [
    "import warnings\n",
    "warnings.filterwarnings('ignore')"
   ]
  },
  {
   "cell_type": "code",
   "execution_count": 3,
   "id": "48f9be9c",
   "metadata": {
    "ExecuteTime": {
     "end_time": "2023-07-04T13:06:44.256442Z",
     "start_time": "2023-07-04T13:06:43.116958Z"
    }
   },
   "outputs": [],
   "source": [
    "fake=pd.read_csv('Fake.csv',encoding='latin-1')"
   ]
  },
  {
   "cell_type": "code",
   "execution_count": 4,
   "id": "b7c30fd7",
   "metadata": {
    "ExecuteTime": {
     "end_time": "2023-07-04T13:06:45.398242Z",
     "start_time": "2023-07-04T13:06:44.256442Z"
    }
   },
   "outputs": [
    {
     "name": "stderr",
     "output_type": "stream",
     "text": [
      "Skipping line 11067: expected 4 fields, saw 8\n",
      "\n"
     ]
    }
   ],
   "source": [
    "true=pd.read_csv('True.csv',encoding='latin-1',error_bad_lines=False)"
   ]
  },
  {
   "cell_type": "code",
   "execution_count": 5,
   "id": "a9dc271f",
   "metadata": {
    "ExecuteTime": {
     "end_time": "2023-07-04T13:06:45.538723Z",
     "start_time": "2023-07-04T13:06:45.420226Z"
    }
   },
   "outputs": [
    {
     "name": "stdout",
     "output_type": "stream",
     "text": [
      "<class 'pandas.core.frame.DataFrame'>\n",
      "RangeIndex: 23481 entries, 0 to 23480\n",
      "Data columns (total 4 columns):\n",
      " #   Column   Non-Null Count  Dtype \n",
      "---  ------   --------------  ----- \n",
      " 0   title    23481 non-null  object\n",
      " 1   text     23481 non-null  object\n",
      " 2   subject  23481 non-null  object\n",
      " 3   date     23481 non-null  object\n",
      "dtypes: object(4)\n",
      "memory usage: 733.9+ KB\n"
     ]
    }
   ],
   "source": [
    "fake.info()"
   ]
  },
  {
   "cell_type": "code",
   "execution_count": 6,
   "id": "74820bbe",
   "metadata": {
    "ExecuteTime": {
     "end_time": "2023-07-04T13:06:45.617493Z",
     "start_time": "2023-07-04T13:06:45.545721Z"
    }
   },
   "outputs": [
    {
     "name": "stdout",
     "output_type": "stream",
     "text": [
      "<class 'pandas.core.frame.DataFrame'>\n",
      "RangeIndex: 21416 entries, 0 to 21415\n",
      "Data columns (total 4 columns):\n",
      " #   Column   Non-Null Count  Dtype \n",
      "---  ------   --------------  ----- \n",
      " 0   title    21416 non-null  object\n",
      " 1   text     21416 non-null  object\n",
      " 2   subject  21416 non-null  object\n",
      " 3   date     21416 non-null  object\n",
      "dtypes: object(4)\n",
      "memory usage: 669.4+ KB\n"
     ]
    }
   ],
   "source": [
    "true.info()"
   ]
  },
  {
   "cell_type": "markdown",
   "id": "b7b439d1",
   "metadata": {},
   "source": [
    "#### so we can see that all the data in our dataset is catagorical\n",
    "NOTE: You can see that all of the datetime related columns are not currently in datetime format. We will need to convert these later."
   ]
  },
  {
   "cell_type": "code",
   "execution_count": 7,
   "id": "67b7cbcb",
   "metadata": {
    "ExecuteTime": {
     "end_time": "2023-07-04T13:06:45.650512Z",
     "start_time": "2023-07-04T13:06:45.621493Z"
    }
   },
   "outputs": [
    {
     "data": {
      "text/plain": [
       "(23481, 4)"
      ]
     },
     "execution_count": 7,
     "metadata": {},
     "output_type": "execute_result"
    }
   ],
   "source": [
    "fake.shape"
   ]
  },
  {
   "cell_type": "code",
   "execution_count": 8,
   "id": "ec0001e8",
   "metadata": {
    "ExecuteTime": {
     "end_time": "2023-07-04T13:06:45.681492Z",
     "start_time": "2023-07-04T13:06:45.658506Z"
    }
   },
   "outputs": [
    {
     "data": {
      "text/plain": [
       "(21416, 4)"
      ]
     },
     "execution_count": 8,
     "metadata": {},
     "output_type": "execute_result"
    }
   ],
   "source": [
    "true.shape"
   ]
  },
  {
   "cell_type": "markdown",
   "id": "32c4e4ec",
   "metadata": {},
   "source": [
    "fake dataset have 23481 ROWS and 4 COLUMNS\n",
    "\n",
    "true dataset have 21416 ROWS and 4 COLUMNS"
   ]
  },
  {
   "cell_type": "markdown",
   "id": "f23bb3e3",
   "metadata": {},
   "source": [
    "# Checking for Missing Data "
   ]
  },
  {
   "cell_type": "code",
   "execution_count": 9,
   "id": "0db7965d",
   "metadata": {
    "ExecuteTime": {
     "end_time": "2023-07-04T13:06:45.757446Z",
     "start_time": "2023-07-04T13:06:45.715473Z"
    }
   },
   "outputs": [],
   "source": [
    "def missing_data(df):\n",
    "    \"\"\"\n",
    "    Objective\n",
    "    ----------\n",
    "    it shows the missing data in each column with \n",
    "    total missing values, percentage of missing value and\n",
    "    its data type in descending order.\n",
    "    \n",
    "    parameters\n",
    "    ----------\n",
    "    df: pandas dataframe\n",
    "        input data frame \n",
    "    \n",
    "    returns\n",
    "    ----------\n",
    "    missing_data: output data frame(pandas dataframe)\n",
    "    \n",
    "    \"\"\"\n",
    "    \n",
    "    total = df.isna().sum().sort_values(ascending=False)\n",
    "    percent = round((df.isnull().sum()/df.isna().count()  * 100).sort_values(ascending=False))\n",
    "    data_type = df.dtypes\n",
    "    missing_data = pd.concat([total,percent,data_type],axis=1,keys=['Total','Percent','Data_Type']).sort_values(\"Total\", axis = 0, ascending = False)\n",
    "    \n",
    "    return missing_data"
   ]
  },
  {
   "cell_type": "code",
   "execution_count": 10,
   "id": "d74f37b9",
   "metadata": {
    "ExecuteTime": {
     "end_time": "2023-07-04T13:06:45.947327Z",
     "start_time": "2023-07-04T13:06:45.768438Z"
    }
   },
   "outputs": [
    {
     "data": {
      "text/html": [
       "<div>\n",
       "<style scoped>\n",
       "    .dataframe tbody tr th:only-of-type {\n",
       "        vertical-align: middle;\n",
       "    }\n",
       "\n",
       "    .dataframe tbody tr th {\n",
       "        vertical-align: top;\n",
       "    }\n",
       "\n",
       "    .dataframe thead th {\n",
       "        text-align: right;\n",
       "    }\n",
       "</style>\n",
       "<table border=\"1\" class=\"dataframe\">\n",
       "  <thead>\n",
       "    <tr style=\"text-align: right;\">\n",
       "      <th></th>\n",
       "      <th>Total</th>\n",
       "      <th>Percent</th>\n",
       "      <th>Data_Type</th>\n",
       "    </tr>\n",
       "  </thead>\n",
       "  <tbody>\n",
       "    <tr>\n",
       "      <th>title</th>\n",
       "      <td>0</td>\n",
       "      <td>0.0</td>\n",
       "      <td>object</td>\n",
       "    </tr>\n",
       "    <tr>\n",
       "      <th>text</th>\n",
       "      <td>0</td>\n",
       "      <td>0.0</td>\n",
       "      <td>object</td>\n",
       "    </tr>\n",
       "    <tr>\n",
       "      <th>subject</th>\n",
       "      <td>0</td>\n",
       "      <td>0.0</td>\n",
       "      <td>object</td>\n",
       "    </tr>\n",
       "    <tr>\n",
       "      <th>date</th>\n",
       "      <td>0</td>\n",
       "      <td>0.0</td>\n",
       "      <td>object</td>\n",
       "    </tr>\n",
       "  </tbody>\n",
       "</table>\n",
       "</div>"
      ],
      "text/plain": [
       "         Total  Percent Data_Type\n",
       "title        0      0.0    object\n",
       "text         0      0.0    object\n",
       "subject      0      0.0    object\n",
       "date         0      0.0    object"
      ]
     },
     "execution_count": 10,
     "metadata": {},
     "output_type": "execute_result"
    }
   ],
   "source": [
    "missing_data(true)"
   ]
  },
  {
   "cell_type": "code",
   "execution_count": 11,
   "id": "754ded69",
   "metadata": {
    "ExecuteTime": {
     "end_time": "2023-07-04T13:06:46.137211Z",
     "start_time": "2023-07-04T13:06:45.954324Z"
    }
   },
   "outputs": [
    {
     "data": {
      "text/html": [
       "<div>\n",
       "<style scoped>\n",
       "    .dataframe tbody tr th:only-of-type {\n",
       "        vertical-align: middle;\n",
       "    }\n",
       "\n",
       "    .dataframe tbody tr th {\n",
       "        vertical-align: top;\n",
       "    }\n",
       "\n",
       "    .dataframe thead th {\n",
       "        text-align: right;\n",
       "    }\n",
       "</style>\n",
       "<table border=\"1\" class=\"dataframe\">\n",
       "  <thead>\n",
       "    <tr style=\"text-align: right;\">\n",
       "      <th></th>\n",
       "      <th>Total</th>\n",
       "      <th>Percent</th>\n",
       "      <th>Data_Type</th>\n",
       "    </tr>\n",
       "  </thead>\n",
       "  <tbody>\n",
       "    <tr>\n",
       "      <th>title</th>\n",
       "      <td>0</td>\n",
       "      <td>0.0</td>\n",
       "      <td>object</td>\n",
       "    </tr>\n",
       "    <tr>\n",
       "      <th>text</th>\n",
       "      <td>0</td>\n",
       "      <td>0.0</td>\n",
       "      <td>object</td>\n",
       "    </tr>\n",
       "    <tr>\n",
       "      <th>subject</th>\n",
       "      <td>0</td>\n",
       "      <td>0.0</td>\n",
       "      <td>object</td>\n",
       "    </tr>\n",
       "    <tr>\n",
       "      <th>date</th>\n",
       "      <td>0</td>\n",
       "      <td>0.0</td>\n",
       "      <td>object</td>\n",
       "    </tr>\n",
       "  </tbody>\n",
       "</table>\n",
       "</div>"
      ],
      "text/plain": [
       "         Total  Percent Data_Type\n",
       "title        0      0.0    object\n",
       "text         0      0.0    object\n",
       "subject      0      0.0    object\n",
       "date         0      0.0    object"
      ]
     },
     "execution_count": 11,
     "metadata": {},
     "output_type": "execute_result"
    }
   ],
   "source": [
    "missing_data(fake)"
   ]
  },
  {
   "cell_type": "markdown",
   "id": "43944313",
   "metadata": {},
   "source": [
    "we can clearly conclude that we don't have any missing data in our dataset .... GOOD to GO!!"
   ]
  },
  {
   "cell_type": "markdown",
   "id": "72179ad8",
   "metadata": {},
   "source": [
    "# Lets Check For Duplicates in our Dataset "
   ]
  },
  {
   "cell_type": "code",
   "execution_count": 12,
   "id": "b65f335c",
   "metadata": {
    "ExecuteTime": {
     "end_time": "2023-07-04T13:06:46.173189Z",
     "start_time": "2023-07-04T13:06:46.150204Z"
    }
   },
   "outputs": [],
   "source": [
    "def drop_duplicates(df):\n",
    "    \"\"\"\n",
    "    Objective\n",
    "    ----------\n",
    "    Drop duplicates rows in data frame except for the first occurrence.\n",
    "    \n",
    "    parameters\n",
    "    ----------\n",
    "    df: pandas dataframe\n",
    "        input data frame \n",
    "        \n",
    "    returns\n",
    "    ----------\n",
    "    dataframe with all unique rows\n",
    "    \"\"\"\n",
    "        \n",
    "    try:\n",
    "        dr = df.duplicated().value_counts()\n",
    "        print(\"[INFO] Dropping {} duplicates records...\".format(dr))\n",
    "        f_df = df.drop_duplicates(keep=\"first\")\n",
    "        \n",
    "        return f_df\n",
    "    except KeyError:\n",
    "        print(\"[INFO] No duplicates records found\")\n",
    "        return df"
   ]
  },
  {
   "cell_type": "code",
   "execution_count": 13,
   "id": "188aa327",
   "metadata": {
    "ExecuteTime": {
     "end_time": "2023-07-04T13:06:46.805473Z",
     "start_time": "2023-07-04T13:06:46.181184Z"
    }
   },
   "outputs": [
    {
     "name": "stdout",
     "output_type": "stream",
     "text": [
      "[INFO] Dropping False    21210\n",
      "True       206\n",
      "dtype: int64 duplicates records...\n"
     ]
    }
   ],
   "source": [
    "true=drop_duplicates(true)"
   ]
  },
  {
   "cell_type": "code",
   "execution_count": 14,
   "id": "110588c1",
   "metadata": {
    "ExecuteTime": {
     "end_time": "2023-07-04T13:06:47.503403Z",
     "start_time": "2023-07-04T13:06:46.805473Z"
    }
   },
   "outputs": [
    {
     "name": "stdout",
     "output_type": "stream",
     "text": [
      "[INFO] Dropping False    23478\n",
      "True         3\n",
      "dtype: int64 duplicates records...\n"
     ]
    }
   ],
   "source": [
    "fake=drop_duplicates(fake)"
   ]
  },
  {
   "cell_type": "code",
   "execution_count": 15,
   "id": "d81ae20a",
   "metadata": {
    "ExecuteTime": {
     "end_time": "2023-07-04T13:06:47.534383Z",
     "start_time": "2023-07-04T13:06:47.511398Z"
    }
   },
   "outputs": [
    {
     "data": {
      "text/plain": [
       "(21210, 4)"
      ]
     },
     "execution_count": 15,
     "metadata": {},
     "output_type": "execute_result"
    }
   ],
   "source": [
    "true.shape"
   ]
  },
  {
   "cell_type": "code",
   "execution_count": 16,
   "id": "d205e260",
   "metadata": {
    "ExecuteTime": {
     "end_time": "2023-07-04T13:06:47.570362Z",
     "start_time": "2023-07-04T13:06:47.544377Z"
    }
   },
   "outputs": [
    {
     "data": {
      "text/plain": [
       "(23478, 4)"
      ]
     },
     "execution_count": 16,
     "metadata": {},
     "output_type": "execute_result"
    }
   ],
   "source": [
    "fake.shape"
   ]
  },
  {
   "cell_type": "code",
   "execution_count": null,
   "id": "031180ba",
   "metadata": {},
   "outputs": [],
   "source": []
  },
  {
   "cell_type": "code",
   "execution_count": null,
   "id": "9fdc3764",
   "metadata": {},
   "outputs": [],
   "source": []
  },
  {
   "cell_type": "markdown",
   "id": "132c9301",
   "metadata": {},
   "source": [
    "### Statistics View\n",
    "Now let's look at some statistics about the datasets"
   ]
  },
  {
   "cell_type": "code",
   "execution_count": 17,
   "id": "6d09c372",
   "metadata": {
    "ExecuteTime": {
     "end_time": "2023-07-04T13:06:47.792225Z",
     "start_time": "2023-07-04T13:06:47.586351Z"
    }
   },
   "outputs": [
    {
     "data": {
      "text/html": [
       "<div>\n",
       "<style scoped>\n",
       "    .dataframe tbody tr th:only-of-type {\n",
       "        vertical-align: middle;\n",
       "    }\n",
       "\n",
       "    .dataframe tbody tr th {\n",
       "        vertical-align: top;\n",
       "    }\n",
       "\n",
       "    .dataframe thead th {\n",
       "        text-align: right;\n",
       "    }\n",
       "</style>\n",
       "<table border=\"1\" class=\"dataframe\">\n",
       "  <thead>\n",
       "    <tr style=\"text-align: right;\">\n",
       "      <th></th>\n",
       "      <th>title</th>\n",
       "      <th>text</th>\n",
       "      <th>subject</th>\n",
       "      <th>date</th>\n",
       "    </tr>\n",
       "  </thead>\n",
       "  <tbody>\n",
       "    <tr>\n",
       "      <th>count</th>\n",
       "      <td>23478</td>\n",
       "      <td>23478</td>\n",
       "      <td>23478</td>\n",
       "      <td>23478</td>\n",
       "    </tr>\n",
       "    <tr>\n",
       "      <th>unique</th>\n",
       "      <td>17903</td>\n",
       "      <td>17455</td>\n",
       "      <td>6</td>\n",
       "      <td>1681</td>\n",
       "    </tr>\n",
       "    <tr>\n",
       "      <th>top</th>\n",
       "      <td>MEDIA IGNORES Time That Bill Clinton FIRED His...</td>\n",
       "      <td></td>\n",
       "      <td>News</td>\n",
       "      <td>May 10, 2017</td>\n",
       "    </tr>\n",
       "    <tr>\n",
       "      <th>freq</th>\n",
       "      <td>6</td>\n",
       "      <td>626</td>\n",
       "      <td>9050</td>\n",
       "      <td>46</td>\n",
       "    </tr>\n",
       "  </tbody>\n",
       "</table>\n",
       "</div>"
      ],
      "text/plain": [
       "                                                    title   text subject  \\\n",
       "count                                               23478  23478   23478   \n",
       "unique                                              17903  17455       6   \n",
       "top     MEDIA IGNORES Time That Bill Clinton FIRED His...           News   \n",
       "freq                                                    6    626    9050   \n",
       "\n",
       "                date  \n",
       "count          23478  \n",
       "unique          1681  \n",
       "top     May 10, 2017  \n",
       "freq              46  "
      ]
     },
     "execution_count": 17,
     "metadata": {},
     "output_type": "execute_result"
    }
   ],
   "source": [
    "fake.describe()"
   ]
  },
  {
   "cell_type": "code",
   "execution_count": 18,
   "id": "1fd7995a",
   "metadata": {
    "ExecuteTime": {
     "end_time": "2023-07-04T13:06:48.091040Z",
     "start_time": "2023-07-04T13:06:47.805217Z"
    }
   },
   "outputs": [
    {
     "data": {
      "text/html": [
       "<div>\n",
       "<style scoped>\n",
       "    .dataframe tbody tr th:only-of-type {\n",
       "        vertical-align: middle;\n",
       "    }\n",
       "\n",
       "    .dataframe tbody tr th {\n",
       "        vertical-align: top;\n",
       "    }\n",
       "\n",
       "    .dataframe thead th {\n",
       "        text-align: right;\n",
       "    }\n",
       "</style>\n",
       "<table border=\"1\" class=\"dataframe\">\n",
       "  <thead>\n",
       "    <tr style=\"text-align: right;\">\n",
       "      <th></th>\n",
       "      <th>title</th>\n",
       "      <th>text</th>\n",
       "      <th>subject</th>\n",
       "      <th>date</th>\n",
       "    </tr>\n",
       "  </thead>\n",
       "  <tbody>\n",
       "    <tr>\n",
       "      <th>count</th>\n",
       "      <td>21210</td>\n",
       "      <td>21210</td>\n",
       "      <td>21210</td>\n",
       "      <td>21210</td>\n",
       "    </tr>\n",
       "    <tr>\n",
       "      <th>unique</th>\n",
       "      <td>20825</td>\n",
       "      <td>21191</td>\n",
       "      <td>2</td>\n",
       "      <td>716</td>\n",
       "    </tr>\n",
       "    <tr>\n",
       "      <th>top</th>\n",
       "      <td>Factbox: Trump fills top jobs for his administ...</td>\n",
       "      <td>CHARLESTON, S.C. (Reuters) - Long viewed by th...</td>\n",
       "      <td>politicsNews</td>\n",
       "      <td>December 6, 2017</td>\n",
       "    </tr>\n",
       "    <tr>\n",
       "      <th>freq</th>\n",
       "      <td>14</td>\n",
       "      <td>2</td>\n",
       "      <td>11219</td>\n",
       "      <td>166</td>\n",
       "    </tr>\n",
       "  </tbody>\n",
       "</table>\n",
       "</div>"
      ],
      "text/plain": [
       "                                                    title  \\\n",
       "count                                               21210   \n",
       "unique                                              20825   \n",
       "top     Factbox: Trump fills top jobs for his administ...   \n",
       "freq                                                   14   \n",
       "\n",
       "                                                     text       subject  \\\n",
       "count                                               21210         21210   \n",
       "unique                                              21191             2   \n",
       "top     CHARLESTON, S.C. (Reuters) - Long viewed by th...  politicsNews   \n",
       "freq                                                    2         11219   \n",
       "\n",
       "                     date  \n",
       "count               21210  \n",
       "unique                716  \n",
       "top     December 6, 2017   \n",
       "freq                  166  "
      ]
     },
     "execution_count": 18,
     "metadata": {},
     "output_type": "execute_result"
    }
   ],
   "source": [
    "true.describe()"
   ]
  },
  {
   "cell_type": "markdown",
   "id": "71f9925e",
   "metadata": {},
   "source": [
    "# Feature_Engineering"
   ]
  },
  {
   "cell_type": "code",
   "execution_count": 19,
   "id": "ce622a99",
   "metadata": {
    "ExecuteTime": {
     "end_time": "2023-07-04T13:06:48.140009Z",
     "start_time": "2023-07-04T13:06:48.100034Z"
    }
   },
   "outputs": [
    {
     "data": {
      "text/plain": [
       "array(['politicsNews', 'worldnews'], dtype=object)"
      ]
     },
     "execution_count": 19,
     "metadata": {},
     "output_type": "execute_result"
    }
   ],
   "source": [
    "true.subject.unique()"
   ]
  },
  {
   "cell_type": "code",
   "execution_count": 20,
   "id": "a3b20743",
   "metadata": {
    "ExecuteTime": {
     "end_time": "2023-07-04T13:06:48.186981Z",
     "start_time": "2023-07-04T13:06:48.168993Z"
    }
   },
   "outputs": [
    {
     "data": {
      "text/plain": [
       "array(['News', 'politics', 'Government News', 'left-news', 'US_News',\n",
       "       'Middle-east'], dtype=object)"
      ]
     },
     "execution_count": 20,
     "metadata": {},
     "output_type": "execute_result"
    }
   ],
   "source": [
    "fake.subject.unique()"
   ]
  },
  {
   "cell_type": "code",
   "execution_count": 21,
   "id": "1e2c811f",
   "metadata": {
    "ExecuteTime": {
     "end_time": "2023-07-04T13:06:48.266931Z",
     "start_time": "2023-07-04T13:06:48.191977Z"
    }
   },
   "outputs": [],
   "source": [
    "fake['subject'] = fake['subject'].replace(['News'], 'worldnews')\n",
    "fake['subject'] = fake['subject'].replace(['left-news'], 'worldnews')\n",
    "fake['subject'] = fake['subject'].replace(['US_News'], 'worldnews')\n",
    "fake['subject'] = fake['subject'].replace(['Middle-east'], 'worldnews')\n",
    "fake['subject'] = fake['subject'].replace(['politics'], 'politicsNews')\n",
    "fake['subject'] = fake['subject'].replace(['Government News'], 'politicsNews')"
   ]
  },
  {
   "cell_type": "code",
   "execution_count": 22,
   "id": "9adf09ca",
   "metadata": {
    "ExecuteTime": {
     "end_time": "2023-07-04T13:06:48.298911Z",
     "start_time": "2023-07-04T13:06:48.271929Z"
    }
   },
   "outputs": [
    {
     "data": {
      "text/plain": [
       "array(['worldnews', 'politicsNews'], dtype=object)"
      ]
     },
     "execution_count": 22,
     "metadata": {},
     "output_type": "execute_result"
    }
   ],
   "source": [
    "fake.subject.unique()"
   ]
  },
  {
   "cell_type": "markdown",
   "id": "05f9f0e8",
   "metadata": {},
   "source": [
    "# Converting the date feature into months and years"
   ]
  },
  {
   "cell_type": "code",
   "execution_count": 23,
   "id": "fdef0de6",
   "metadata": {
    "ExecuteTime": {
     "end_time": "2023-07-04T13:06:48.543039Z",
     "start_time": "2023-07-04T13:06:48.303909Z"
    }
   },
   "outputs": [],
   "source": [
    "from datetime import datetime\n",
    "import calendar\n",
    "true['date'] = pd.to_datetime(true['date'], errors='coerce')\n",
    "num = true['date'].dt.month"
   ]
  },
  {
   "cell_type": "code",
   "execution_count": 24,
   "id": "e1d3d64b",
   "metadata": {
    "ExecuteTime": {
     "end_time": "2023-07-04T13:06:49.012995Z",
     "start_time": "2023-07-04T13:06:48.543039Z"
    }
   },
   "outputs": [],
   "source": [
    "fake['date'] = pd.to_datetime(fake['date'], errors='coerce')\n",
    "num = fake['date'].dt.month"
   ]
  },
  {
   "cell_type": "code",
   "execution_count": 25,
   "id": "296cc308",
   "metadata": {
    "ExecuteTime": {
     "end_time": "2023-07-04T13:06:49.064852Z",
     "start_time": "2023-07-04T13:06:49.017994Z"
    }
   },
   "outputs": [
    {
     "name": "stdout",
     "output_type": "stream",
     "text": [
      "<class 'pandas.core.frame.DataFrame'>\n",
      "Int64Index: 21210 entries, 0 to 21415\n",
      "Data columns (total 4 columns):\n",
      " #   Column   Non-Null Count  Dtype         \n",
      "---  ------   --------------  -----         \n",
      " 0   title    21210 non-null  object        \n",
      " 1   text     21210 non-null  object        \n",
      " 2   subject  21210 non-null  object        \n",
      " 3   date     21210 non-null  datetime64[ns]\n",
      "dtypes: datetime64[ns](1), object(3)\n",
      "memory usage: 828.5+ KB\n"
     ]
    }
   ],
   "source": [
    "true.info()"
   ]
  },
  {
   "cell_type": "code",
   "execution_count": 26,
   "id": "cb0a6853",
   "metadata": {
    "ExecuteTime": {
     "end_time": "2023-07-04T13:06:49.111723Z",
     "start_time": "2023-07-04T13:06:49.064852Z"
    }
   },
   "outputs": [
    {
     "name": "stdout",
     "output_type": "stream",
     "text": [
      "<class 'pandas.core.frame.DataFrame'>\n",
      "Int64Index: 23478 entries, 0 to 23480\n",
      "Data columns (total 4 columns):\n",
      " #   Column   Non-Null Count  Dtype         \n",
      "---  ------   --------------  -----         \n",
      " 0   title    23478 non-null  object        \n",
      " 1   text     23478 non-null  object        \n",
      " 2   subject  23478 non-null  object        \n",
      " 3   date     23468 non-null  datetime64[ns]\n",
      "dtypes: datetime64[ns](1), object(3)\n",
      "memory usage: 917.1+ KB\n"
     ]
    }
   ],
   "source": [
    "fake.info()"
   ]
  },
  {
   "cell_type": "code",
   "execution_count": 27,
   "id": "661578ee",
   "metadata": {
    "ExecuteTime": {
     "end_time": "2023-07-04T13:06:49.267961Z",
     "start_time": "2023-07-04T13:06:49.127350Z"
    }
   },
   "outputs": [],
   "source": [
    "fake['Month'] = fake.date.apply(lambda x:x.month)\n",
    "fake['Year'] = fake.date.apply(lambda x:x.year)"
   ]
  },
  {
   "cell_type": "code",
   "execution_count": 28,
   "id": "bb8948ff",
   "metadata": {
    "ExecuteTime": {
     "end_time": "2023-07-04T13:06:49.491840Z",
     "start_time": "2023-07-04T13:06:49.274956Z"
    }
   },
   "outputs": [],
   "source": [
    "true['Month'] = true.date.apply(lambda x:x.month)\n",
    "true['Year'] = true.date.apply(lambda x:x.year)"
   ]
  },
  {
   "cell_type": "code",
   "execution_count": 29,
   "id": "f71a1833",
   "metadata": {
    "ExecuteTime": {
     "end_time": "2023-07-04T13:06:49.570788Z",
     "start_time": "2023-07-04T13:06:49.504830Z"
    }
   },
   "outputs": [
    {
     "data": {
      "text/html": [
       "<div>\n",
       "<style scoped>\n",
       "    .dataframe tbody tr th:only-of-type {\n",
       "        vertical-align: middle;\n",
       "    }\n",
       "\n",
       "    .dataframe tbody tr th {\n",
       "        vertical-align: top;\n",
       "    }\n",
       "\n",
       "    .dataframe thead th {\n",
       "        text-align: right;\n",
       "    }\n",
       "</style>\n",
       "<table border=\"1\" class=\"dataframe\">\n",
       "  <thead>\n",
       "    <tr style=\"text-align: right;\">\n",
       "      <th></th>\n",
       "      <th>title</th>\n",
       "      <th>text</th>\n",
       "      <th>subject</th>\n",
       "      <th>date</th>\n",
       "      <th>Month</th>\n",
       "      <th>Year</th>\n",
       "    </tr>\n",
       "  </thead>\n",
       "  <tbody>\n",
       "    <tr>\n",
       "      <th>0</th>\n",
       "      <td>Donald Trump Sends Out Embarrassing New Year\u0019...</td>\n",
       "      <td>Donald Trump just couldn t wish all Americans ...</td>\n",
       "      <td>worldnews</td>\n",
       "      <td>2017-12-31</td>\n",
       "      <td>12.0</td>\n",
       "      <td>2017.0</td>\n",
       "    </tr>\n",
       "    <tr>\n",
       "      <th>1</th>\n",
       "      <td>Drunk Bragging Trump Staffer Started Russian ...</td>\n",
       "      <td>House Intelligence Committee Chairman Devin Nu...</td>\n",
       "      <td>worldnews</td>\n",
       "      <td>2017-12-31</td>\n",
       "      <td>12.0</td>\n",
       "      <td>2017.0</td>\n",
       "    </tr>\n",
       "    <tr>\n",
       "      <th>2</th>\n",
       "      <td>Sheriff David Clarke Becomes An Internet Joke...</td>\n",
       "      <td>On Friday, it was revealed that former Milwauk...</td>\n",
       "      <td>worldnews</td>\n",
       "      <td>2017-12-30</td>\n",
       "      <td>12.0</td>\n",
       "      <td>2017.0</td>\n",
       "    </tr>\n",
       "    <tr>\n",
       "      <th>3</th>\n",
       "      <td>Trump Is So Obsessed He Even Has Obama\u0019s Name...</td>\n",
       "      <td>On Christmas day, Donald Trump announced that ...</td>\n",
       "      <td>worldnews</td>\n",
       "      <td>2017-12-29</td>\n",
       "      <td>12.0</td>\n",
       "      <td>2017.0</td>\n",
       "    </tr>\n",
       "    <tr>\n",
       "      <th>4</th>\n",
       "      <td>Pope Francis Just Called Out Donald Trump Dur...</td>\n",
       "      <td>Pope Francis used his annual Christmas Day mes...</td>\n",
       "      <td>worldnews</td>\n",
       "      <td>2017-12-25</td>\n",
       "      <td>12.0</td>\n",
       "      <td>2017.0</td>\n",
       "    </tr>\n",
       "  </tbody>\n",
       "</table>\n",
       "</div>"
      ],
      "text/plain": [
       "                                               title  \\\n",
       "0   Donald Trump Sends Out Embarrassing New Year\u0019...   \n",
       "1   Drunk Bragging Trump Staffer Started Russian ...   \n",
       "2   Sheriff David Clarke Becomes An Internet Joke...   \n",
       "3   Trump Is So Obsessed He Even Has Obama\u0019s Name...   \n",
       "4   Pope Francis Just Called Out Donald Trump Dur...   \n",
       "\n",
       "                                                text    subject       date  \\\n",
       "0  Donald Trump just couldn t wish all Americans ...  worldnews 2017-12-31   \n",
       "1  House Intelligence Committee Chairman Devin Nu...  worldnews 2017-12-31   \n",
       "2  On Friday, it was revealed that former Milwauk...  worldnews 2017-12-30   \n",
       "3  On Christmas day, Donald Trump announced that ...  worldnews 2017-12-29   \n",
       "4  Pope Francis used his annual Christmas Day mes...  worldnews 2017-12-25   \n",
       "\n",
       "   Month    Year  \n",
       "0   12.0  2017.0  \n",
       "1   12.0  2017.0  \n",
       "2   12.0  2017.0  \n",
       "3   12.0  2017.0  \n",
       "4   12.0  2017.0  "
      ]
     },
     "execution_count": 29,
     "metadata": {},
     "output_type": "execute_result"
    }
   ],
   "source": [
    "fake.head()"
   ]
  },
  {
   "cell_type": "code",
   "execution_count": 30,
   "id": "e38cb118",
   "metadata": {
    "ExecuteTime": {
     "end_time": "2023-07-04T13:06:49.607765Z",
     "start_time": "2023-07-04T13:06:49.581780Z"
    }
   },
   "outputs": [],
   "source": [
    "del fake['date']\n",
    "del true['date']"
   ]
  },
  {
   "cell_type": "code",
   "execution_count": 31,
   "id": "13741e51",
   "metadata": {
    "ExecuteTime": {
     "end_time": "2023-07-04T13:06:49.649740Z",
     "start_time": "2023-07-04T13:06:49.623755Z"
    }
   },
   "outputs": [
    {
     "data": {
      "text/html": [
       "<div>\n",
       "<style scoped>\n",
       "    .dataframe tbody tr th:only-of-type {\n",
       "        vertical-align: middle;\n",
       "    }\n",
       "\n",
       "    .dataframe tbody tr th {\n",
       "        vertical-align: top;\n",
       "    }\n",
       "\n",
       "    .dataframe thead th {\n",
       "        text-align: right;\n",
       "    }\n",
       "</style>\n",
       "<table border=\"1\" class=\"dataframe\">\n",
       "  <thead>\n",
       "    <tr style=\"text-align: right;\">\n",
       "      <th></th>\n",
       "      <th>title</th>\n",
       "      <th>text</th>\n",
       "      <th>subject</th>\n",
       "      <th>Month</th>\n",
       "      <th>Year</th>\n",
       "    </tr>\n",
       "  </thead>\n",
       "  <tbody>\n",
       "    <tr>\n",
       "      <th>0</th>\n",
       "      <td>As U.S. budget fight looms, Republicans flip t...</td>\n",
       "      <td>WASHINGTON (Reuters) - The head of a conservat...</td>\n",
       "      <td>politicsNews</td>\n",
       "      <td>12</td>\n",
       "      <td>2017</td>\n",
       "    </tr>\n",
       "    <tr>\n",
       "      <th>1</th>\n",
       "      <td>U.S. military to accept transgender recruits o...</td>\n",
       "      <td>WASHINGTON (Reuters) - Transgender people will...</td>\n",
       "      <td>politicsNews</td>\n",
       "      <td>12</td>\n",
       "      <td>2017</td>\n",
       "    </tr>\n",
       "    <tr>\n",
       "      <th>2</th>\n",
       "      <td>Senior U.S. Republican senator: 'Let Mr. Muell...</td>\n",
       "      <td>WASHINGTON (Reuters) - The special counsel inv...</td>\n",
       "      <td>politicsNews</td>\n",
       "      <td>12</td>\n",
       "      <td>2017</td>\n",
       "    </tr>\n",
       "    <tr>\n",
       "      <th>3</th>\n",
       "      <td>FBI Russia probe helped by Australian diplomat...</td>\n",
       "      <td>WASHINGTON (Reuters) - Trump campaign adviser ...</td>\n",
       "      <td>politicsNews</td>\n",
       "      <td>12</td>\n",
       "      <td>2017</td>\n",
       "    </tr>\n",
       "    <tr>\n",
       "      <th>4</th>\n",
       "      <td>Trump wants Postal Service to charge 'much mor...</td>\n",
       "      <td>SEATTLE/WASHINGTON (Reuters) - President Donal...</td>\n",
       "      <td>politicsNews</td>\n",
       "      <td>12</td>\n",
       "      <td>2017</td>\n",
       "    </tr>\n",
       "  </tbody>\n",
       "</table>\n",
       "</div>"
      ],
      "text/plain": [
       "                                               title  \\\n",
       "0  As U.S. budget fight looms, Republicans flip t...   \n",
       "1  U.S. military to accept transgender recruits o...   \n",
       "2  Senior U.S. Republican senator: 'Let Mr. Muell...   \n",
       "3  FBI Russia probe helped by Australian diplomat...   \n",
       "4  Trump wants Postal Service to charge 'much mor...   \n",
       "\n",
       "                                                text       subject  Month  \\\n",
       "0  WASHINGTON (Reuters) - The head of a conservat...  politicsNews     12   \n",
       "1  WASHINGTON (Reuters) - Transgender people will...  politicsNews     12   \n",
       "2  WASHINGTON (Reuters) - The special counsel inv...  politicsNews     12   \n",
       "3  WASHINGTON (Reuters) - Trump campaign adviser ...  politicsNews     12   \n",
       "4  SEATTLE/WASHINGTON (Reuters) - President Donal...  politicsNews     12   \n",
       "\n",
       "   Year  \n",
       "0  2017  \n",
       "1  2017  \n",
       "2  2017  \n",
       "3  2017  \n",
       "4  2017  "
      ]
     },
     "execution_count": 31,
     "metadata": {},
     "output_type": "execute_result"
    }
   ],
   "source": [
    "true.head()"
   ]
  },
  {
   "cell_type": "code",
   "execution_count": 32,
   "id": "4dc07f26",
   "metadata": {
    "ExecuteTime": {
     "end_time": "2023-07-04T13:06:49.681306Z",
     "start_time": "2023-07-04T13:06:49.651785Z"
    }
   },
   "outputs": [
    {
     "data": {
      "text/html": [
       "<div>\n",
       "<style scoped>\n",
       "    .dataframe tbody tr th:only-of-type {\n",
       "        vertical-align: middle;\n",
       "    }\n",
       "\n",
       "    .dataframe tbody tr th {\n",
       "        vertical-align: top;\n",
       "    }\n",
       "\n",
       "    .dataframe thead th {\n",
       "        text-align: right;\n",
       "    }\n",
       "</style>\n",
       "<table border=\"1\" class=\"dataframe\">\n",
       "  <thead>\n",
       "    <tr style=\"text-align: right;\">\n",
       "      <th></th>\n",
       "      <th>title</th>\n",
       "      <th>text</th>\n",
       "      <th>subject</th>\n",
       "      <th>Month</th>\n",
       "      <th>Year</th>\n",
       "    </tr>\n",
       "  </thead>\n",
       "  <tbody>\n",
       "    <tr>\n",
       "      <th>0</th>\n",
       "      <td>Donald Trump Sends Out Embarrassing New Year\u0019...</td>\n",
       "      <td>Donald Trump just couldn t wish all Americans ...</td>\n",
       "      <td>worldnews</td>\n",
       "      <td>12.0</td>\n",
       "      <td>2017.0</td>\n",
       "    </tr>\n",
       "    <tr>\n",
       "      <th>1</th>\n",
       "      <td>Drunk Bragging Trump Staffer Started Russian ...</td>\n",
       "      <td>House Intelligence Committee Chairman Devin Nu...</td>\n",
       "      <td>worldnews</td>\n",
       "      <td>12.0</td>\n",
       "      <td>2017.0</td>\n",
       "    </tr>\n",
       "    <tr>\n",
       "      <th>2</th>\n",
       "      <td>Sheriff David Clarke Becomes An Internet Joke...</td>\n",
       "      <td>On Friday, it was revealed that former Milwauk...</td>\n",
       "      <td>worldnews</td>\n",
       "      <td>12.0</td>\n",
       "      <td>2017.0</td>\n",
       "    </tr>\n",
       "    <tr>\n",
       "      <th>3</th>\n",
       "      <td>Trump Is So Obsessed He Even Has Obama\u0019s Name...</td>\n",
       "      <td>On Christmas day, Donald Trump announced that ...</td>\n",
       "      <td>worldnews</td>\n",
       "      <td>12.0</td>\n",
       "      <td>2017.0</td>\n",
       "    </tr>\n",
       "    <tr>\n",
       "      <th>4</th>\n",
       "      <td>Pope Francis Just Called Out Donald Trump Dur...</td>\n",
       "      <td>Pope Francis used his annual Christmas Day mes...</td>\n",
       "      <td>worldnews</td>\n",
       "      <td>12.0</td>\n",
       "      <td>2017.0</td>\n",
       "    </tr>\n",
       "  </tbody>\n",
       "</table>\n",
       "</div>"
      ],
      "text/plain": [
       "                                               title  \\\n",
       "0   Donald Trump Sends Out Embarrassing New Year\u0019...   \n",
       "1   Drunk Bragging Trump Staffer Started Russian ...   \n",
       "2   Sheriff David Clarke Becomes An Internet Joke...   \n",
       "3   Trump Is So Obsessed He Even Has Obama\u0019s Name...   \n",
       "4   Pope Francis Just Called Out Donald Trump Dur...   \n",
       "\n",
       "                                                text    subject  Month    Year  \n",
       "0  Donald Trump just couldn t wish all Americans ...  worldnews   12.0  2017.0  \n",
       "1  House Intelligence Committee Chairman Devin Nu...  worldnews   12.0  2017.0  \n",
       "2  On Friday, it was revealed that former Milwauk...  worldnews   12.0  2017.0  \n",
       "3  On Christmas day, Donald Trump announced that ...  worldnews   12.0  2017.0  \n",
       "4  Pope Francis used his annual Christmas Day mes...  worldnews   12.0  2017.0  "
      ]
     },
     "execution_count": 32,
     "metadata": {},
     "output_type": "execute_result"
    }
   ],
   "source": [
    "fake.head()"
   ]
  },
  {
   "cell_type": "code",
   "execution_count": null,
   "id": "ff2c82f4",
   "metadata": {},
   "outputs": [],
   "source": []
  },
  {
   "cell_type": "markdown",
   "id": "e7214f05",
   "metadata": {},
   "source": [
    "# Data Cleaning\n",
    "Now we are moving ahead with cleaning our data\n",
    "\n",
    "Removal of HTML Contents\n",
    "\n",
    "Removal of Punctuation Marks and Special Characters\n",
    "\n",
    "Removal of Stopwords\n",
    "\n",
    "Lemmatization"
   ]
  },
  {
   "cell_type": "code",
   "execution_count": null,
   "id": "09f5869b",
   "metadata": {},
   "outputs": [],
   "source": []
  },
  {
   "cell_type": "markdown",
   "id": "13aa8adc",
   "metadata": {},
   "source": [
    "### First of all we are  mearging our tile,subject with text in to a single column 'text' to continue with our data cleaning process"
   ]
  },
  {
   "cell_type": "code",
   "execution_count": 33,
   "id": "73c7f16d",
   "metadata": {
    "ExecuteTime": {
     "end_time": "2023-07-04T13:06:49.827278Z",
     "start_time": "2023-07-04T13:06:49.685660Z"
    }
   },
   "outputs": [
    {
     "data": {
      "text/html": [
       "<div>\n",
       "<style scoped>\n",
       "    .dataframe tbody tr th:only-of-type {\n",
       "        vertical-align: middle;\n",
       "    }\n",
       "\n",
       "    .dataframe tbody tr th {\n",
       "        vertical-align: top;\n",
       "    }\n",
       "\n",
       "    .dataframe thead th {\n",
       "        text-align: right;\n",
       "    }\n",
       "</style>\n",
       "<table border=\"1\" class=\"dataframe\">\n",
       "  <thead>\n",
       "    <tr style=\"text-align: right;\">\n",
       "      <th></th>\n",
       "      <th>text</th>\n",
       "      <th>Month</th>\n",
       "      <th>Year</th>\n",
       "    </tr>\n",
       "  </thead>\n",
       "  <tbody>\n",
       "    <tr>\n",
       "      <th>0</th>\n",
       "      <td>worldnews  Donald Trump Sends Out Embarrassing...</td>\n",
       "      <td>12.0</td>\n",
       "      <td>2017.0</td>\n",
       "    </tr>\n",
       "    <tr>\n",
       "      <th>1</th>\n",
       "      <td>worldnews  Drunk Bragging Trump Staffer Starte...</td>\n",
       "      <td>12.0</td>\n",
       "      <td>2017.0</td>\n",
       "    </tr>\n",
       "    <tr>\n",
       "      <th>2</th>\n",
       "      <td>worldnews  Sheriff David Clarke Becomes An Int...</td>\n",
       "      <td>12.0</td>\n",
       "      <td>2017.0</td>\n",
       "    </tr>\n",
       "    <tr>\n",
       "      <th>3</th>\n",
       "      <td>worldnews  Trump Is So Obsessed He Even Has Ob...</td>\n",
       "      <td>12.0</td>\n",
       "      <td>2017.0</td>\n",
       "    </tr>\n",
       "    <tr>\n",
       "      <th>4</th>\n",
       "      <td>worldnews  Pope Francis Just Called Out Donald...</td>\n",
       "      <td>12.0</td>\n",
       "      <td>2017.0</td>\n",
       "    </tr>\n",
       "  </tbody>\n",
       "</table>\n",
       "</div>"
      ],
      "text/plain": [
       "                                                text  Month    Year\n",
       "0  worldnews  Donald Trump Sends Out Embarrassing...   12.0  2017.0\n",
       "1  worldnews  Drunk Bragging Trump Staffer Starte...   12.0  2017.0\n",
       "2  worldnews  Sheriff David Clarke Becomes An Int...   12.0  2017.0\n",
       "3  worldnews  Trump Is So Obsessed He Even Has Ob...   12.0  2017.0\n",
       "4  worldnews  Pope Francis Just Called Out Donald...   12.0  2017.0"
      ]
     },
     "execution_count": 33,
     "metadata": {},
     "output_type": "execute_result"
    }
   ],
   "source": [
    "fake['text']= fake['subject'] + \" \" + fake['title'] + \" \" + fake['text']\n",
    "del fake['subject']\n",
    "del fake['title']\n",
    "fake.head()"
   ]
  },
  {
   "cell_type": "code",
   "execution_count": 34,
   "id": "eeacf93e",
   "metadata": {
    "ExecuteTime": {
     "end_time": "2023-07-04T13:06:50.032151Z",
     "start_time": "2023-07-04T13:06:49.837272Z"
    }
   },
   "outputs": [
    {
     "data": {
      "text/html": [
       "<div>\n",
       "<style scoped>\n",
       "    .dataframe tbody tr th:only-of-type {\n",
       "        vertical-align: middle;\n",
       "    }\n",
       "\n",
       "    .dataframe tbody tr th {\n",
       "        vertical-align: top;\n",
       "    }\n",
       "\n",
       "    .dataframe thead th {\n",
       "        text-align: right;\n",
       "    }\n",
       "</style>\n",
       "<table border=\"1\" class=\"dataframe\">\n",
       "  <thead>\n",
       "    <tr style=\"text-align: right;\">\n",
       "      <th></th>\n",
       "      <th>text</th>\n",
       "      <th>Month</th>\n",
       "      <th>Year</th>\n",
       "    </tr>\n",
       "  </thead>\n",
       "  <tbody>\n",
       "    <tr>\n",
       "      <th>0</th>\n",
       "      <td>politicsNews As U.S. budget fight looms, Repub...</td>\n",
       "      <td>12</td>\n",
       "      <td>2017</td>\n",
       "    </tr>\n",
       "    <tr>\n",
       "      <th>1</th>\n",
       "      <td>politicsNews U.S. military to accept transgend...</td>\n",
       "      <td>12</td>\n",
       "      <td>2017</td>\n",
       "    </tr>\n",
       "    <tr>\n",
       "      <th>2</th>\n",
       "      <td>politicsNews Senior U.S. Republican senator: '...</td>\n",
       "      <td>12</td>\n",
       "      <td>2017</td>\n",
       "    </tr>\n",
       "    <tr>\n",
       "      <th>3</th>\n",
       "      <td>politicsNews FBI Russia probe helped by Austra...</td>\n",
       "      <td>12</td>\n",
       "      <td>2017</td>\n",
       "    </tr>\n",
       "    <tr>\n",
       "      <th>4</th>\n",
       "      <td>politicsNews Trump wants Postal Service to cha...</td>\n",
       "      <td>12</td>\n",
       "      <td>2017</td>\n",
       "    </tr>\n",
       "  </tbody>\n",
       "</table>\n",
       "</div>"
      ],
      "text/plain": [
       "                                                text  Month  Year\n",
       "0  politicsNews As U.S. budget fight looms, Repub...     12  2017\n",
       "1  politicsNews U.S. military to accept transgend...     12  2017\n",
       "2  politicsNews Senior U.S. Republican senator: '...     12  2017\n",
       "3  politicsNews FBI Russia probe helped by Austra...     12  2017\n",
       "4  politicsNews Trump wants Postal Service to cha...     12  2017"
      ]
     },
     "execution_count": 34,
     "metadata": {},
     "output_type": "execute_result"
    }
   ],
   "source": [
    "true['text']= true['subject'] + \" \" + true['title'] + \" \" + true['text']\n",
    "del true['subject']\n",
    "del true['title']\n",
    "true.head()\n"
   ]
  },
  {
   "cell_type": "code",
   "execution_count": 35,
   "id": "00ef3524",
   "metadata": {
    "ExecuteTime": {
     "end_time": "2023-07-04T13:06:51.634118Z",
     "start_time": "2023-07-04T13:06:50.043145Z"
    }
   },
   "outputs": [],
   "source": [
    "from bs4 import BeautifulSoup\n",
    "import re\n",
    "import nltk\n",
    "import string\n",
    "from nltk.corpus import stopwords  "
   ]
  },
  {
   "cell_type": "code",
   "execution_count": 36,
   "id": "a0bd8bd5",
   "metadata": {
    "ExecuteTime": {
     "end_time": "2023-07-04T13:06:51.649738Z",
     "start_time": "2023-07-04T13:06:51.634118Z"
    }
   },
   "outputs": [],
   "source": [
    "def remove_html(text):\n",
    "    soup = BeautifulSoup(text, \"html.parser\")\n",
    "    return soup.get_text()\n",
    "def remove_punctuations(text):\n",
    "    return re.sub('\\[[^]]*\\]', '', text)\n",
    "def remove_characters(text):\n",
    "    return re.sub(\"[^a-zA-Z]\",\" \",text)\n"
   ]
  },
  {
   "cell_type": "code",
   "execution_count": 37,
   "id": "7236f7e7",
   "metadata": {
    "ExecuteTime": {
     "end_time": "2023-07-04T13:06:51.665363Z",
     "start_time": "2023-07-04T13:06:51.649738Z"
    }
   },
   "outputs": [],
   "source": [
    "def cleaning(text):\n",
    "    text = remove_html(text)\n",
    "    text = text.lower()\n",
    "    text = re.sub('\\[.*?\\]', '', text)\n",
    "    text = re.sub('[%s]' % re.escape(string.punctuation), '', text)\n",
    "    text = re.sub('\\w*\\d\\w*', '', text)\n",
    "    text = re.sub(\"[0-9\" \"]+\",\" \",text)\n",
    "    text = re.sub('[‘’“”…]', '', text)\n",
    "    return text\n",
    "\n",
    "clean = lambda x: cleaning(x)"
   ]
  },
  {
   "cell_type": "code",
   "execution_count": 38,
   "id": "2d1b143e",
   "metadata": {
    "ExecuteTime": {
     "end_time": "2023-07-04T13:06:51.696615Z",
     "start_time": "2023-07-04T13:06:51.665363Z"
    }
   },
   "outputs": [
    {
     "data": {
      "text/html": [
       "<div>\n",
       "<style scoped>\n",
       "    .dataframe tbody tr th:only-of-type {\n",
       "        vertical-align: middle;\n",
       "    }\n",
       "\n",
       "    .dataframe tbody tr th {\n",
       "        vertical-align: top;\n",
       "    }\n",
       "\n",
       "    .dataframe thead th {\n",
       "        text-align: right;\n",
       "    }\n",
       "</style>\n",
       "<table border=\"1\" class=\"dataframe\">\n",
       "  <thead>\n",
       "    <tr style=\"text-align: right;\">\n",
       "      <th></th>\n",
       "      <th>text</th>\n",
       "      <th>Month</th>\n",
       "      <th>Year</th>\n",
       "    </tr>\n",
       "  </thead>\n",
       "  <tbody>\n",
       "    <tr>\n",
       "      <th>0</th>\n",
       "      <td>politicsNews As U.S. budget fight looms, Repub...</td>\n",
       "      <td>12</td>\n",
       "      <td>2017</td>\n",
       "    </tr>\n",
       "    <tr>\n",
       "      <th>1</th>\n",
       "      <td>politicsNews U.S. military to accept transgend...</td>\n",
       "      <td>12</td>\n",
       "      <td>2017</td>\n",
       "    </tr>\n",
       "    <tr>\n",
       "      <th>2</th>\n",
       "      <td>politicsNews Senior U.S. Republican senator: '...</td>\n",
       "      <td>12</td>\n",
       "      <td>2017</td>\n",
       "    </tr>\n",
       "    <tr>\n",
       "      <th>3</th>\n",
       "      <td>politicsNews FBI Russia probe helped by Austra...</td>\n",
       "      <td>12</td>\n",
       "      <td>2017</td>\n",
       "    </tr>\n",
       "    <tr>\n",
       "      <th>4</th>\n",
       "      <td>politicsNews Trump wants Postal Service to cha...</td>\n",
       "      <td>12</td>\n",
       "      <td>2017</td>\n",
       "    </tr>\n",
       "  </tbody>\n",
       "</table>\n",
       "</div>"
      ],
      "text/plain": [
       "                                                text  Month  Year\n",
       "0  politicsNews As U.S. budget fight looms, Repub...     12  2017\n",
       "1  politicsNews U.S. military to accept transgend...     12  2017\n",
       "2  politicsNews Senior U.S. Republican senator: '...     12  2017\n",
       "3  politicsNews FBI Russia probe helped by Austra...     12  2017\n",
       "4  politicsNews Trump wants Postal Service to cha...     12  2017"
      ]
     },
     "execution_count": 38,
     "metadata": {},
     "output_type": "execute_result"
    }
   ],
   "source": [
    "true.head()"
   ]
  },
  {
   "cell_type": "code",
   "execution_count": 39,
   "id": "ee02fc69",
   "metadata": {
    "ExecuteTime": {
     "end_time": "2023-07-04T13:06:51.727866Z",
     "start_time": "2023-07-04T13:06:51.696615Z"
    }
   },
   "outputs": [
    {
     "data": {
      "text/html": [
       "<div>\n",
       "<style scoped>\n",
       "    .dataframe tbody tr th:only-of-type {\n",
       "        vertical-align: middle;\n",
       "    }\n",
       "\n",
       "    .dataframe tbody tr th {\n",
       "        vertical-align: top;\n",
       "    }\n",
       "\n",
       "    .dataframe thead th {\n",
       "        text-align: right;\n",
       "    }\n",
       "</style>\n",
       "<table border=\"1\" class=\"dataframe\">\n",
       "  <thead>\n",
       "    <tr style=\"text-align: right;\">\n",
       "      <th></th>\n",
       "      <th>text</th>\n",
       "      <th>Month</th>\n",
       "      <th>Year</th>\n",
       "    </tr>\n",
       "  </thead>\n",
       "  <tbody>\n",
       "    <tr>\n",
       "      <th>0</th>\n",
       "      <td>worldnews  Donald Trump Sends Out Embarrassing...</td>\n",
       "      <td>12.0</td>\n",
       "      <td>2017.0</td>\n",
       "    </tr>\n",
       "    <tr>\n",
       "      <th>1</th>\n",
       "      <td>worldnews  Drunk Bragging Trump Staffer Starte...</td>\n",
       "      <td>12.0</td>\n",
       "      <td>2017.0</td>\n",
       "    </tr>\n",
       "    <tr>\n",
       "      <th>2</th>\n",
       "      <td>worldnews  Sheriff David Clarke Becomes An Int...</td>\n",
       "      <td>12.0</td>\n",
       "      <td>2017.0</td>\n",
       "    </tr>\n",
       "    <tr>\n",
       "      <th>3</th>\n",
       "      <td>worldnews  Trump Is So Obsessed He Even Has Ob...</td>\n",
       "      <td>12.0</td>\n",
       "      <td>2017.0</td>\n",
       "    </tr>\n",
       "    <tr>\n",
       "      <th>4</th>\n",
       "      <td>worldnews  Pope Francis Just Called Out Donald...</td>\n",
       "      <td>12.0</td>\n",
       "      <td>2017.0</td>\n",
       "    </tr>\n",
       "  </tbody>\n",
       "</table>\n",
       "</div>"
      ],
      "text/plain": [
       "                                                text  Month    Year\n",
       "0  worldnews  Donald Trump Sends Out Embarrassing...   12.0  2017.0\n",
       "1  worldnews  Drunk Bragging Trump Staffer Starte...   12.0  2017.0\n",
       "2  worldnews  Sheriff David Clarke Becomes An Int...   12.0  2017.0\n",
       "3  worldnews  Trump Is So Obsessed He Even Has Ob...   12.0  2017.0\n",
       "4  worldnews  Pope Francis Just Called Out Donald...   12.0  2017.0"
      ]
     },
     "execution_count": 39,
     "metadata": {},
     "output_type": "execute_result"
    }
   ],
   "source": [
    "fake.head()"
   ]
  },
  {
   "cell_type": "markdown",
   "id": "065e6a31",
   "metadata": {},
   "source": [
    "# FAKE DATASET"
   ]
  },
  {
   "cell_type": "code",
   "execution_count": null,
   "id": "a1167e17",
   "metadata": {},
   "outputs": [],
   "source": []
  },
  {
   "cell_type": "code",
   "execution_count": 40,
   "id": "5b96f9ed",
   "metadata": {
    "ExecuteTime": {
     "end_time": "2023-07-04T13:07:20.541591Z",
     "start_time": "2023-07-04T13:06:51.727866Z"
    }
   },
   "outputs": [],
   "source": [
    "fake['text']=fake['text'].apply(cleaning)\n"
   ]
  },
  {
   "cell_type": "code",
   "execution_count": 41,
   "id": "3112fd01",
   "metadata": {
    "ExecuteTime": {
     "end_time": "2023-07-04T13:07:20.572840Z",
     "start_time": "2023-07-04T13:07:20.541591Z"
    }
   },
   "outputs": [],
   "source": [
    "#removing stopwords\n",
    "from nltk.corpus import stopwords\n",
    "stop = stopwords.words('english')"
   ]
  },
  {
   "cell_type": "code",
   "execution_count": 42,
   "id": "eb631ada",
   "metadata": {
    "ExecuteTime": {
     "end_time": "2023-07-04T13:07:20.588448Z",
     "start_time": "2023-07-04T13:07:20.572840Z"
    }
   },
   "outputs": [],
   "source": [
    "new_stopwords = ['trump','say','president','people','go','make','state','would','one','us','get','obama','clinton','time','take','donald','tell','also','worldnews','new','white','come','call','right','want','use','house','campaign','report','see','vote','give','work','could','first','back','many','republican','attack','country','government','need','support','two','politicsnews','years','election','unite','party','last','group','include','may','political','republicans','former','national','bill','law','help','year','accord']"
   ]
  },
  {
   "cell_type": "code",
   "execution_count": 43,
   "id": "51ab3b36",
   "metadata": {
    "ExecuteTime": {
     "end_time": "2023-07-04T13:07:20.604073Z",
     "start_time": "2023-07-04T13:07:20.588448Z"
    }
   },
   "outputs": [],
   "source": [
    "stop.extend(new_stopwords)"
   ]
  },
  {
   "cell_type": "code",
   "execution_count": 44,
   "id": "815fcb14",
   "metadata": {
    "ExecuteTime": {
     "end_time": "2023-07-04T13:07:20.619696Z",
     "start_time": "2023-07-04T13:07:20.604073Z"
    }
   },
   "outputs": [],
   "source": [
    "#Lets perfom lamatization into entire dataset\n",
    "def lemmatize_words(text):\n",
    "        lemma = nltk.WordNetLemmatizer()\n",
    "        words = text.split()\n",
    "        words = [lemma.lemmatize(word,pos='v') for word in words]\n",
    "        return ' '.join(words)"
   ]
  },
  {
   "cell_type": "code",
   "execution_count": 45,
   "id": "a4e0ccac",
   "metadata": {
    "ExecuteTime": {
     "end_time": "2023-07-04T13:09:04.101343Z",
     "start_time": "2023-07-04T13:07:20.619696Z"
    }
   },
   "outputs": [],
   "source": [
    "fake['text'] = fake['text'].apply(lemmatize_words)"
   ]
  },
  {
   "cell_type": "code",
   "execution_count": 46,
   "id": "6dd51f16",
   "metadata": {
    "ExecuteTime": {
     "end_time": "2023-07-04T13:09:58.081666Z",
     "start_time": "2023-07-04T13:09:04.107346Z"
    }
   },
   "outputs": [],
   "source": [
    "fake['text'] = fake['text'].apply(lambda x: \" \".join(x for x in x.split() if x not in stop))"
   ]
  },
  {
   "cell_type": "code",
   "execution_count": 47,
   "id": "f094d12a",
   "metadata": {
    "ExecuteTime": {
     "end_time": "2023-07-04T13:10:00.642306Z",
     "start_time": "2023-07-04T13:09:58.081666Z"
    }
   },
   "outputs": [
    {
     "data": {
      "text/plain": [
       "like        18756\n",
       "know        16884\n",
       "hillary     15219\n",
       "news        14860\n",
       "even        14436\n",
       "image       14184\n",
       "think       13284\n",
       "show        11678\n",
       "media       11620\n",
       "via         11177\n",
       "america     11059\n",
       "video       11014\n",
       "american    10240\n",
       "ask          9073\n",
       "police       9034\n",
       "black        8955\n",
       "way          8625\n",
       "live         8574\n",
       "try          8359\n",
       "claim        8340\n",
       "dtype: int64"
      ]
     },
     "execution_count": 47,
     "metadata": {},
     "output_type": "execute_result"
    }
   ],
   "source": [
    "#word frequency after lamatization in fake dataset\n",
    "freq_fk = pd.Series(' '.join(fake['text']).split()).value_counts()[:20] # for top 100\n",
    "freq_fk"
   ]
  },
  {
   "cell_type": "code",
   "execution_count": 48,
   "id": "485e00a2",
   "metadata": {
    "ExecuteTime": {
     "end_time": "2023-07-04T13:10:00.673559Z",
     "start_time": "2023-07-04T13:10:00.642306Z"
    }
   },
   "outputs": [
    {
     "data": {
      "text/plain": [
       "0        send embarrass year\u0019s eve message disturb wish...\n",
       "1        drink brag staffer start russian collusion inv...\n",
       "2        sheriff david clarke become internet joke thre...\n",
       "3        obsess even obama\u0019s name cod website image chr...\n",
       "4        pope francis christmas speech pope francis ann...\n",
       "                               ...                        \n",
       "23476    mcpain john mccain furious iran treat sailors ...\n",
       "23477    justice yahoo settle email privacy classaction...\n",
       "23478    sunnistan ally \u0018safe zone\u0019 plan territorial bo...\n",
       "23479    blow million al jazeera america finally quit c...\n",
       "23480    navy sailors hold iranian military \u0013 sign neoc...\n",
       "Name: text, Length: 23478, dtype: object"
      ]
     },
     "execution_count": 48,
     "metadata": {},
     "output_type": "execute_result"
    }
   ],
   "source": [
    "fake['text']"
   ]
  },
  {
   "cell_type": "markdown",
   "id": "a6f57d31",
   "metadata": {
    "ExecuteTime": {
     "end_time": "2023-06-17T16:20:11.688164Z",
     "start_time": "2023-06-17T16:20:11.637195Z"
    }
   },
   "source": [
    "# TRUE DATASET"
   ]
  },
  {
   "cell_type": "code",
   "execution_count": 49,
   "id": "69902bda",
   "metadata": {
    "ExecuteTime": {
     "end_time": "2023-07-04T13:10:22.250828Z",
     "start_time": "2023-07-04T13:10:00.673559Z"
    }
   },
   "outputs": [],
   "source": [
    "true['text']=true['text'].apply(cleaning)"
   ]
  },
  {
   "cell_type": "code",
   "execution_count": 50,
   "id": "3308f65d",
   "metadata": {
    "ExecuteTime": {
     "end_time": "2023-07-04T13:11:48.898306Z",
     "start_time": "2023-07-04T13:10:22.250828Z"
    }
   },
   "outputs": [],
   "source": [
    "true['text'] = true['text'].apply(lemmatize_words)"
   ]
  },
  {
   "cell_type": "code",
   "execution_count": 51,
   "id": "eae826e4",
   "metadata": {
    "ExecuteTime": {
     "end_time": "2023-07-04T13:12:35.925673Z",
     "start_time": "2023-07-04T13:11:48.898306Z"
    }
   },
   "outputs": [],
   "source": [
    "#removing stopwords\n",
    "#stop = stopwords.words('english')\n",
    "true['text'] = true['text'].apply(lambda x: \" \".join(x for x in x.split() if x not in stop))"
   ]
  },
  {
   "cell_type": "code",
   "execution_count": 52,
   "id": "5916f2d6",
   "metadata": {
    "ExecuteTime": {
     "end_time": "2023-07-04T13:12:38.087487Z",
     "start_time": "2023-07-04T13:12:35.925673Z"
    }
   },
   "outputs": [
    {
     "data": {
      "text/plain": [
       "reuters         28071\n",
       "washington      12172\n",
       "trump\u0019s         11558\n",
       "court           10616\n",
       "north           10547\n",
       "plan            10486\n",
       "meet            10485\n",
       "security        10267\n",
       "percent          9942\n",
       "tax              9868\n",
       "minister         9857\n",
       "senate           9652\n",
       "rule             9464\n",
       "force            8568\n",
       "officials        8561\n",
       "china            8392\n",
       "foreign          8369\n",
       "democratic       8343\n",
       "since            8255\n",
       "presidential     8222\n",
       "dtype: int64"
      ]
     },
     "execution_count": 52,
     "metadata": {},
     "output_type": "execute_result"
    }
   ],
   "source": [
    "#word frequency after removal of stopwords in fake dataset\n",
    "freq_tr = pd.Series(' '.join(true['text']).split()).value_counts()[:20] # for top 20\n",
    "freq_tr"
   ]
  },
  {
   "cell_type": "code",
   "execution_count": 53,
   "id": "e379f03f",
   "metadata": {
    "ExecuteTime": {
     "end_time": "2023-07-04T13:12:38.103112Z",
     "start_time": "2023-07-04T13:12:38.087487Z"
    }
   },
   "outputs": [
    {
     "data": {
      "text/plain": [
       "0        budget fight loom flip fiscal script washingto...\n",
       "1        military accept transgender recruit monday pen...\n",
       "2        senior senator let mr mueller job washington r...\n",
       "3        fbi russia probe australian diplomat tipoff ny...\n",
       "4        postal service charge much amazon shipments se...\n",
       "                               ...                        \n",
       "21411    fully commit nato approach afghanistan brussel...\n",
       "21412    lexisnexis withdraw products chinese market lo...\n",
       "21413    minsk cultural hub become authorities minsk re...\n",
       "21414    vatican upbeat possibility pope francis visit ...\n",
       "21415    indonesia buy billion worth russian jet jakart...\n",
       "Name: text, Length: 21210, dtype: object"
      ]
     },
     "execution_count": 53,
     "metadata": {},
     "output_type": "execute_result"
    }
   ],
   "source": [
    "true['text']"
   ]
  },
  {
   "cell_type": "markdown",
   "id": "be186edf",
   "metadata": {},
   "source": [
    "# We can see that in true news we have more words in comparision to fake news"
   ]
  },
  {
   "cell_type": "markdown",
   "id": "3c5c8488",
   "metadata": {
    "ExecuteTime": {
     "end_time": "2023-06-24T16:44:35.647834Z",
     "start_time": "2023-06-24T16:44:35.631844Z"
    }
   },
   "source": [
    "## Creating a dataframe 'data' \n",
    "##### Adding an Target vaeriable into our data frame assigning 1 to true and 0 to fake"
   ]
  },
  {
   "cell_type": "code",
   "execution_count": 54,
   "id": "42a68b42",
   "metadata": {
    "ExecuteTime": {
     "end_time": "2023-07-04T13:12:38.118734Z",
     "start_time": "2023-07-04T13:12:38.103112Z"
    }
   },
   "outputs": [],
   "source": [
    "#add column \n",
    "true['target'] = 1\n",
    "fake['target'] = 0 "
   ]
  },
  {
   "cell_type": "code",
   "execution_count": 55,
   "id": "b5d6a471",
   "metadata": {
    "ExecuteTime": {
     "end_time": "2023-07-04T13:12:38.134360Z",
     "start_time": "2023-07-04T13:12:38.118734Z"
    }
   },
   "outputs": [],
   "source": [
    "data=pd.concat([true,fake],ignore_index=True,sort=False)"
   ]
  },
  {
   "cell_type": "code",
   "execution_count": 56,
   "id": "a309a5a4",
   "metadata": {
    "ExecuteTime": {
     "end_time": "2023-07-04T13:12:38.165609Z",
     "start_time": "2023-07-04T13:12:38.134360Z"
    }
   },
   "outputs": [],
   "source": [
    "from sklearn.utils import shuffle\n",
    "data=shuffle(data)\n",
    "data=data.reset_index(drop=True)\n"
   ]
  },
  {
   "cell_type": "code",
   "execution_count": 57,
   "id": "3875e09a",
   "metadata": {
    "ExecuteTime": {
     "end_time": "2023-07-04T13:12:38.196858Z",
     "start_time": "2023-07-04T13:12:38.165609Z"
    }
   },
   "outputs": [
    {
     "data": {
      "text/html": [
       "<div>\n",
       "<style scoped>\n",
       "    .dataframe tbody tr th:only-of-type {\n",
       "        vertical-align: middle;\n",
       "    }\n",
       "\n",
       "    .dataframe tbody tr th {\n",
       "        vertical-align: top;\n",
       "    }\n",
       "\n",
       "    .dataframe thead th {\n",
       "        text-align: right;\n",
       "    }\n",
       "</style>\n",
       "<table border=\"1\" class=\"dataframe\">\n",
       "  <thead>\n",
       "    <tr style=\"text-align: right;\">\n",
       "      <th></th>\n",
       "      <th>text</th>\n",
       "      <th>Month</th>\n",
       "      <th>Year</th>\n",
       "      <th>target</th>\n",
       "    </tr>\n",
       "  </thead>\n",
       "  <tbody>\n",
       "    <tr>\n",
       "      <th>0</th>\n",
       "      <td>supporter rail \u0018hillary\u0019s place front fire squ...</td>\n",
       "      <td>9.0</td>\n",
       "      <td>2016.0</td>\n",
       "      <td>0</td>\n",
       "    </tr>\n",
       "    <tr>\n",
       "      <th>1</th>\n",
       "      <td>tim kaine show decent way respond shameful dwy...</td>\n",
       "      <td>8.0</td>\n",
       "      <td>2016.0</td>\n",
       "      <td>0</td>\n",
       "    </tr>\n",
       "    <tr>\n",
       "      <th>2</th>\n",
       "      <td>budget cut shut every public school kansas kan...</td>\n",
       "      <td>5.0</td>\n",
       "      <td>2016.0</td>\n",
       "      <td>0</td>\n",
       "    </tr>\n",
       "    <tr>\n",
       "      <th>3</th>\n",
       "      <td>norways rightwing win reelection fight oil tax...</td>\n",
       "      <td>9.0</td>\n",
       "      <td>2017.0</td>\n",
       "      <td>1</td>\n",
       "    </tr>\n",
       "    <tr>\n",
       "      <th>4</th>\n",
       "      <td>watch stephen colbert moderate hilarious vs de...</td>\n",
       "      <td>1.0</td>\n",
       "      <td>2016.0</td>\n",
       "      <td>0</td>\n",
       "    </tr>\n",
       "  </tbody>\n",
       "</table>\n",
       "</div>"
      ],
      "text/plain": [
       "                                                text  Month    Year  target\n",
       "0  supporter rail \u0018hillary\u0019s place front fire squ...    9.0  2016.0       0\n",
       "1  tim kaine show decent way respond shameful dwy...    8.0  2016.0       0\n",
       "2  budget cut shut every public school kansas kan...    5.0  2016.0       0\n",
       "3  norways rightwing win reelection fight oil tax...    9.0  2017.0       1\n",
       "4  watch stephen colbert moderate hilarious vs de...    1.0  2016.0       0"
      ]
     },
     "execution_count": 57,
     "metadata": {},
     "output_type": "execute_result"
    }
   ],
   "source": [
    "data.head()"
   ]
  },
  {
   "cell_type": "markdown",
   "id": "cae6b5e3",
   "metadata": {
    "ExecuteTime": {
     "end_time": "2023-06-19T17:17:35.811243Z",
     "start_time": "2023-06-19T17:17:35.799247Z"
    }
   },
   "source": [
    "# Data visualization"
   ]
  },
  {
   "cell_type": "markdown",
   "id": "a1d4c65b",
   "metadata": {
    "ExecuteTime": {
     "end_time": "2023-06-19T17:57:31.634688Z",
     "start_time": "2023-06-19T17:57:21.075577Z"
    }
   },
   "source": [
    "# Model Building \n",
    "\n"
   ]
  },
  {
   "cell_type": "code",
   "execution_count": 58,
   "id": "0a3d3396",
   "metadata": {
    "ExecuteTime": {
     "end_time": "2023-07-04T13:12:38.228109Z",
     "start_time": "2023-07-04T13:12:38.196858Z"
    }
   },
   "outputs": [
    {
     "data": {
      "text/html": [
       "<div>\n",
       "<style scoped>\n",
       "    .dataframe tbody tr th:only-of-type {\n",
       "        vertical-align: middle;\n",
       "    }\n",
       "\n",
       "    .dataframe tbody tr th {\n",
       "        vertical-align: top;\n",
       "    }\n",
       "\n",
       "    .dataframe thead th {\n",
       "        text-align: right;\n",
       "    }\n",
       "</style>\n",
       "<table border=\"1\" class=\"dataframe\">\n",
       "  <thead>\n",
       "    <tr style=\"text-align: right;\">\n",
       "      <th></th>\n",
       "      <th>text</th>\n",
       "      <th>Month</th>\n",
       "      <th>Year</th>\n",
       "      <th>target</th>\n",
       "    </tr>\n",
       "  </thead>\n",
       "  <tbody>\n",
       "    <tr>\n",
       "      <th>0</th>\n",
       "      <td>supporter rail \u0018hillary\u0019s place front fire squ...</td>\n",
       "      <td>9.0</td>\n",
       "      <td>2016.0</td>\n",
       "      <td>0</td>\n",
       "    </tr>\n",
       "    <tr>\n",
       "      <th>1</th>\n",
       "      <td>tim kaine show decent way respond shameful dwy...</td>\n",
       "      <td>8.0</td>\n",
       "      <td>2016.0</td>\n",
       "      <td>0</td>\n",
       "    </tr>\n",
       "    <tr>\n",
       "      <th>2</th>\n",
       "      <td>budget cut shut every public school kansas kan...</td>\n",
       "      <td>5.0</td>\n",
       "      <td>2016.0</td>\n",
       "      <td>0</td>\n",
       "    </tr>\n",
       "    <tr>\n",
       "      <th>3</th>\n",
       "      <td>norways rightwing win reelection fight oil tax...</td>\n",
       "      <td>9.0</td>\n",
       "      <td>2017.0</td>\n",
       "      <td>1</td>\n",
       "    </tr>\n",
       "    <tr>\n",
       "      <th>4</th>\n",
       "      <td>watch stephen colbert moderate hilarious vs de...</td>\n",
       "      <td>1.0</td>\n",
       "      <td>2016.0</td>\n",
       "      <td>0</td>\n",
       "    </tr>\n",
       "  </tbody>\n",
       "</table>\n",
       "</div>"
      ],
      "text/plain": [
       "                                                text  Month    Year  target\n",
       "0  supporter rail \u0018hillary\u0019s place front fire squ...    9.0  2016.0       0\n",
       "1  tim kaine show decent way respond shameful dwy...    8.0  2016.0       0\n",
       "2  budget cut shut every public school kansas kan...    5.0  2016.0       0\n",
       "3  norways rightwing win reelection fight oil tax...    9.0  2017.0       1\n",
       "4  watch stephen colbert moderate hilarious vs de...    1.0  2016.0       0"
      ]
     },
     "execution_count": 58,
     "metadata": {},
     "output_type": "execute_result"
    }
   ],
   "source": [
    "data.head()"
   ]
  },
  {
   "cell_type": "code",
   "execution_count": 59,
   "id": "6342a045",
   "metadata": {
    "ExecuteTime": {
     "end_time": "2023-07-04T13:12:38.243732Z",
     "start_time": "2023-07-04T13:12:38.228109Z"
    }
   },
   "outputs": [],
   "source": [
    "from sklearn.feature_extraction.text import TfidfVectorizer\n"
   ]
  },
  {
   "cell_type": "code",
   "execution_count": 74,
   "id": "b58df56d",
   "metadata": {
    "ExecuteTime": {
     "end_time": "2023-07-04T13:22:36.402288Z",
     "start_time": "2023-07-04T13:22:19.161196Z"
    }
   },
   "outputs": [],
   "source": [
    "vectorizer = TfidfVectorizer(stop_words='english',max_features=3000, max_df =1.0, smooth_idf=True) #keep top 3000 words\n",
    "#doc_vec = vectorizer.fit_transform(data[\"text\"])\n",
    "#names_features = vectorizer.get_feature_names_out()\n",
    "x= vectorizer.fit_transform(data[\"text\"]).toarray()"
   ]
  },
  {
   "cell_type": "code",
   "execution_count": 75,
   "id": "373adfd3",
   "metadata": {
    "ExecuteTime": {
     "end_time": "2023-07-04T13:22:43.071537Z",
     "start_time": "2023-07-04T13:22:43.043555Z"
    }
   },
   "outputs": [
    {
     "data": {
      "text/plain": [
       "array([[0.        , 0.        , 0.        , ..., 0.        , 0.        ,\n",
       "        0.        ],\n",
       "       [0.        , 0.        , 0.        , ..., 0.        , 0.        ,\n",
       "        0.        ],\n",
       "       [0.        , 0.        , 0.        , ..., 0.        , 0.        ,\n",
       "        0.        ],\n",
       "       ...,\n",
       "       [0.        , 0.        , 0.        , ..., 0.        , 0.        ,\n",
       "        0.        ],\n",
       "       [0.        , 0.        , 0.        , ..., 0.        , 0.        ,\n",
       "        0.        ],\n",
       "       [0.        , 0.        , 0.        , ..., 0.        , 0.        ,\n",
       "        0.47322452]])"
      ]
     },
     "execution_count": 75,
     "metadata": {},
     "output_type": "execute_result"
    }
   ],
   "source": [
    "x"
   ]
  },
  {
   "cell_type": "code",
   "execution_count": 62,
   "id": "30249e5a",
   "metadata": {
    "ExecuteTime": {
     "end_time": "2023-07-04T13:15:39.037527Z",
     "start_time": "2023-07-04T13:13:21.499181Z"
    }
   },
   "outputs": [],
   "source": [
    ")"
   ]
  },
  {
   "cell_type": "code",
   "execution_count": 63,
   "id": "1ca824de",
   "metadata": {
    "ExecuteTime": {
     "end_time": "2023-07-04T13:15:39.466972Z",
     "start_time": "2023-07-04T13:15:39.084394Z"
    }
   },
   "outputs": [
    {
     "data": {
      "text/html": [
       "<div>\n",
       "<style scoped>\n",
       "    .dataframe tbody tr th:only-of-type {\n",
       "        vertical-align: middle;\n",
       "    }\n",
       "\n",
       "    .dataframe tbody tr th {\n",
       "        vertical-align: top;\n",
       "    }\n",
       "\n",
       "    .dataframe thead th {\n",
       "        text-align: right;\n",
       "    }\n",
       "</style>\n",
       "<table border=\"1\" class=\"dataframe\">\n",
       "  <thead>\n",
       "    <tr style=\"text-align: right;\">\n",
       "      <th></th>\n",
       "      <th>abandon</th>\n",
       "      <th>abc</th>\n",
       "      <th>abe</th>\n",
       "      <th>abedin</th>\n",
       "      <th>ability</th>\n",
       "      <th>able</th>\n",
       "      <th>abortion</th>\n",
       "      <th>abroad</th>\n",
       "      <th>absolute</th>\n",
       "      <th>absolutely</th>\n",
       "      <th>...</th>\n",
       "      <th>young</th>\n",
       "      <th>younger</th>\n",
       "      <th>youth</th>\n",
       "      <th>youtube</th>\n",
       "      <th>zealand</th>\n",
       "      <th>zero</th>\n",
       "      <th>zika</th>\n",
       "      <th>zimbabwe</th>\n",
       "      <th>zone</th>\n",
       "      <th>zuma</th>\n",
       "    </tr>\n",
       "  </thead>\n",
       "  <tbody>\n",
       "    <tr>\n",
       "      <th>0</th>\n",
       "      <td>0.0</td>\n",
       "      <td>0.0</td>\n",
       "      <td>0.0</td>\n",
       "      <td>0.0</td>\n",
       "      <td>0.0</td>\n",
       "      <td>0.000000</td>\n",
       "      <td>0.0</td>\n",
       "      <td>0.000000</td>\n",
       "      <td>0.0</td>\n",
       "      <td>0.0</td>\n",
       "      <td>...</td>\n",
       "      <td>0.000000</td>\n",
       "      <td>0.0</td>\n",
       "      <td>0.000000</td>\n",
       "      <td>0.000000</td>\n",
       "      <td>0.0</td>\n",
       "      <td>0.000000</td>\n",
       "      <td>0.0</td>\n",
       "      <td>0.0</td>\n",
       "      <td>0.0</td>\n",
       "      <td>0.000000</td>\n",
       "    </tr>\n",
       "    <tr>\n",
       "      <th>1</th>\n",
       "      <td>0.0</td>\n",
       "      <td>0.0</td>\n",
       "      <td>0.0</td>\n",
       "      <td>0.0</td>\n",
       "      <td>0.0</td>\n",
       "      <td>0.000000</td>\n",
       "      <td>0.0</td>\n",
       "      <td>0.000000</td>\n",
       "      <td>0.0</td>\n",
       "      <td>0.0</td>\n",
       "      <td>...</td>\n",
       "      <td>0.059668</td>\n",
       "      <td>0.0</td>\n",
       "      <td>0.086817</td>\n",
       "      <td>0.000000</td>\n",
       "      <td>0.0</td>\n",
       "      <td>0.000000</td>\n",
       "      <td>0.0</td>\n",
       "      <td>0.0</td>\n",
       "      <td>0.0</td>\n",
       "      <td>0.000000</td>\n",
       "    </tr>\n",
       "    <tr>\n",
       "      <th>2</th>\n",
       "      <td>0.0</td>\n",
       "      <td>0.0</td>\n",
       "      <td>0.0</td>\n",
       "      <td>0.0</td>\n",
       "      <td>0.0</td>\n",
       "      <td>0.000000</td>\n",
       "      <td>0.0</td>\n",
       "      <td>0.000000</td>\n",
       "      <td>0.0</td>\n",
       "      <td>0.0</td>\n",
       "      <td>...</td>\n",
       "      <td>0.000000</td>\n",
       "      <td>0.0</td>\n",
       "      <td>0.000000</td>\n",
       "      <td>0.000000</td>\n",
       "      <td>0.0</td>\n",
       "      <td>0.000000</td>\n",
       "      <td>0.0</td>\n",
       "      <td>0.0</td>\n",
       "      <td>0.0</td>\n",
       "      <td>0.000000</td>\n",
       "    </tr>\n",
       "    <tr>\n",
       "      <th>3</th>\n",
       "      <td>0.0</td>\n",
       "      <td>0.0</td>\n",
       "      <td>0.0</td>\n",
       "      <td>0.0</td>\n",
       "      <td>0.0</td>\n",
       "      <td>0.000000</td>\n",
       "      <td>0.0</td>\n",
       "      <td>0.000000</td>\n",
       "      <td>0.0</td>\n",
       "      <td>0.0</td>\n",
       "      <td>...</td>\n",
       "      <td>0.000000</td>\n",
       "      <td>0.0</td>\n",
       "      <td>0.000000</td>\n",
       "      <td>0.000000</td>\n",
       "      <td>0.0</td>\n",
       "      <td>0.000000</td>\n",
       "      <td>0.0</td>\n",
       "      <td>0.0</td>\n",
       "      <td>0.0</td>\n",
       "      <td>0.000000</td>\n",
       "    </tr>\n",
       "    <tr>\n",
       "      <th>4</th>\n",
       "      <td>0.0</td>\n",
       "      <td>0.0</td>\n",
       "      <td>0.0</td>\n",
       "      <td>0.0</td>\n",
       "      <td>0.0</td>\n",
       "      <td>0.069102</td>\n",
       "      <td>0.0</td>\n",
       "      <td>0.000000</td>\n",
       "      <td>0.0</td>\n",
       "      <td>0.0</td>\n",
       "      <td>...</td>\n",
       "      <td>0.000000</td>\n",
       "      <td>0.0</td>\n",
       "      <td>0.000000</td>\n",
       "      <td>0.099993</td>\n",
       "      <td>0.0</td>\n",
       "      <td>0.098214</td>\n",
       "      <td>0.0</td>\n",
       "      <td>0.0</td>\n",
       "      <td>0.0</td>\n",
       "      <td>0.000000</td>\n",
       "    </tr>\n",
       "    <tr>\n",
       "      <th>...</th>\n",
       "      <td>...</td>\n",
       "      <td>...</td>\n",
       "      <td>...</td>\n",
       "      <td>...</td>\n",
       "      <td>...</td>\n",
       "      <td>...</td>\n",
       "      <td>...</td>\n",
       "      <td>...</td>\n",
       "      <td>...</td>\n",
       "      <td>...</td>\n",
       "      <td>...</td>\n",
       "      <td>...</td>\n",
       "      <td>...</td>\n",
       "      <td>...</td>\n",
       "      <td>...</td>\n",
       "      <td>...</td>\n",
       "      <td>...</td>\n",
       "      <td>...</td>\n",
       "      <td>...</td>\n",
       "      <td>...</td>\n",
       "      <td>...</td>\n",
       "    </tr>\n",
       "    <tr>\n",
       "      <th>44683</th>\n",
       "      <td>0.0</td>\n",
       "      <td>0.0</td>\n",
       "      <td>0.0</td>\n",
       "      <td>0.0</td>\n",
       "      <td>0.0</td>\n",
       "      <td>0.000000</td>\n",
       "      <td>0.0</td>\n",
       "      <td>0.000000</td>\n",
       "      <td>0.0</td>\n",
       "      <td>0.0</td>\n",
       "      <td>...</td>\n",
       "      <td>0.000000</td>\n",
       "      <td>0.0</td>\n",
       "      <td>0.000000</td>\n",
       "      <td>0.000000</td>\n",
       "      <td>0.0</td>\n",
       "      <td>0.000000</td>\n",
       "      <td>0.0</td>\n",
       "      <td>0.0</td>\n",
       "      <td>0.0</td>\n",
       "      <td>0.000000</td>\n",
       "    </tr>\n",
       "    <tr>\n",
       "      <th>44684</th>\n",
       "      <td>0.0</td>\n",
       "      <td>0.0</td>\n",
       "      <td>0.0</td>\n",
       "      <td>0.0</td>\n",
       "      <td>0.0</td>\n",
       "      <td>0.000000</td>\n",
       "      <td>0.0</td>\n",
       "      <td>0.000000</td>\n",
       "      <td>0.0</td>\n",
       "      <td>0.0</td>\n",
       "      <td>...</td>\n",
       "      <td>0.000000</td>\n",
       "      <td>0.0</td>\n",
       "      <td>0.000000</td>\n",
       "      <td>0.000000</td>\n",
       "      <td>0.0</td>\n",
       "      <td>0.000000</td>\n",
       "      <td>0.0</td>\n",
       "      <td>0.0</td>\n",
       "      <td>0.0</td>\n",
       "      <td>0.000000</td>\n",
       "    </tr>\n",
       "    <tr>\n",
       "      <th>44685</th>\n",
       "      <td>0.0</td>\n",
       "      <td>0.0</td>\n",
       "      <td>0.0</td>\n",
       "      <td>0.0</td>\n",
       "      <td>0.0</td>\n",
       "      <td>0.000000</td>\n",
       "      <td>0.0</td>\n",
       "      <td>0.000000</td>\n",
       "      <td>0.0</td>\n",
       "      <td>0.0</td>\n",
       "      <td>...</td>\n",
       "      <td>0.000000</td>\n",
       "      <td>0.0</td>\n",
       "      <td>0.000000</td>\n",
       "      <td>0.000000</td>\n",
       "      <td>0.0</td>\n",
       "      <td>0.000000</td>\n",
       "      <td>0.0</td>\n",
       "      <td>0.0</td>\n",
       "      <td>0.0</td>\n",
       "      <td>0.000000</td>\n",
       "    </tr>\n",
       "    <tr>\n",
       "      <th>44686</th>\n",
       "      <td>0.0</td>\n",
       "      <td>0.0</td>\n",
       "      <td>0.0</td>\n",
       "      <td>0.0</td>\n",
       "      <td>0.0</td>\n",
       "      <td>0.030204</td>\n",
       "      <td>0.0</td>\n",
       "      <td>0.000000</td>\n",
       "      <td>0.0</td>\n",
       "      <td>0.0</td>\n",
       "      <td>...</td>\n",
       "      <td>0.000000</td>\n",
       "      <td>0.0</td>\n",
       "      <td>0.000000</td>\n",
       "      <td>0.000000</td>\n",
       "      <td>0.0</td>\n",
       "      <td>0.000000</td>\n",
       "      <td>0.0</td>\n",
       "      <td>0.0</td>\n",
       "      <td>0.0</td>\n",
       "      <td>0.000000</td>\n",
       "    </tr>\n",
       "    <tr>\n",
       "      <th>44687</th>\n",
       "      <td>0.0</td>\n",
       "      <td>0.0</td>\n",
       "      <td>0.0</td>\n",
       "      <td>0.0</td>\n",
       "      <td>0.0</td>\n",
       "      <td>0.000000</td>\n",
       "      <td>0.0</td>\n",
       "      <td>0.054497</td>\n",
       "      <td>0.0</td>\n",
       "      <td>0.0</td>\n",
       "      <td>...</td>\n",
       "      <td>0.000000</td>\n",
       "      <td>0.0</td>\n",
       "      <td>0.000000</td>\n",
       "      <td>0.000000</td>\n",
       "      <td>0.0</td>\n",
       "      <td>0.000000</td>\n",
       "      <td>0.0</td>\n",
       "      <td>0.0</td>\n",
       "      <td>0.0</td>\n",
       "      <td>0.473225</td>\n",
       "    </tr>\n",
       "  </tbody>\n",
       "</table>\n",
       "<p>44688 rows × 3000 columns</p>\n",
       "</div>"
      ],
      "text/plain": [
       "       abandon  abc  abe  abedin  ability      able  abortion    abroad  \\\n",
       "0          0.0  0.0  0.0     0.0      0.0  0.000000       0.0  0.000000   \n",
       "1          0.0  0.0  0.0     0.0      0.0  0.000000       0.0  0.000000   \n",
       "2          0.0  0.0  0.0     0.0      0.0  0.000000       0.0  0.000000   \n",
       "3          0.0  0.0  0.0     0.0      0.0  0.000000       0.0  0.000000   \n",
       "4          0.0  0.0  0.0     0.0      0.0  0.069102       0.0  0.000000   \n",
       "...        ...  ...  ...     ...      ...       ...       ...       ...   \n",
       "44683      0.0  0.0  0.0     0.0      0.0  0.000000       0.0  0.000000   \n",
       "44684      0.0  0.0  0.0     0.0      0.0  0.000000       0.0  0.000000   \n",
       "44685      0.0  0.0  0.0     0.0      0.0  0.000000       0.0  0.000000   \n",
       "44686      0.0  0.0  0.0     0.0      0.0  0.030204       0.0  0.000000   \n",
       "44687      0.0  0.0  0.0     0.0      0.0  0.000000       0.0  0.054497   \n",
       "\n",
       "       absolute  absolutely  ...     young  younger     youth   youtube  \\\n",
       "0           0.0         0.0  ...  0.000000      0.0  0.000000  0.000000   \n",
       "1           0.0         0.0  ...  0.059668      0.0  0.086817  0.000000   \n",
       "2           0.0         0.0  ...  0.000000      0.0  0.000000  0.000000   \n",
       "3           0.0         0.0  ...  0.000000      0.0  0.000000  0.000000   \n",
       "4           0.0         0.0  ...  0.000000      0.0  0.000000  0.099993   \n",
       "...         ...         ...  ...       ...      ...       ...       ...   \n",
       "44683       0.0         0.0  ...  0.000000      0.0  0.000000  0.000000   \n",
       "44684       0.0         0.0  ...  0.000000      0.0  0.000000  0.000000   \n",
       "44685       0.0         0.0  ...  0.000000      0.0  0.000000  0.000000   \n",
       "44686       0.0         0.0  ...  0.000000      0.0  0.000000  0.000000   \n",
       "44687       0.0         0.0  ...  0.000000      0.0  0.000000  0.000000   \n",
       "\n",
       "       zealand      zero  zika  zimbabwe  zone      zuma  \n",
       "0          0.0  0.000000   0.0       0.0   0.0  0.000000  \n",
       "1          0.0  0.000000   0.0       0.0   0.0  0.000000  \n",
       "2          0.0  0.000000   0.0       0.0   0.0  0.000000  \n",
       "3          0.0  0.000000   0.0       0.0   0.0  0.000000  \n",
       "4          0.0  0.098214   0.0       0.0   0.0  0.000000  \n",
       "...        ...       ...   ...       ...   ...       ...  \n",
       "44683      0.0  0.000000   0.0       0.0   0.0  0.000000  \n",
       "44684      0.0  0.000000   0.0       0.0   0.0  0.000000  \n",
       "44685      0.0  0.000000   0.0       0.0   0.0  0.000000  \n",
       "44686      0.0  0.000000   0.0       0.0   0.0  0.000000  \n",
       "44687      0.0  0.000000   0.0       0.0   0.0  0.473225  \n",
       "\n",
       "[44688 rows x 3000 columns]"
      ]
     },
     "execution_count": 63,
     "metadata": {},
     "output_type": "execute_result"
    }
   ],
   "source": [
    "x"
   ]
  },
  {
   "cell_type": "code",
   "execution_count": 76,
   "id": "02be1ef7",
   "metadata": {
    "ExecuteTime": {
     "end_time": "2023-07-04T13:22:58.606438Z",
     "start_time": "2023-07-04T13:22:58.599440Z"
    }
   },
   "outputs": [],
   "source": [
    "y=data['target']"
   ]
  },
  {
   "cell_type": "code",
   "execution_count": 77,
   "id": "3e7fa036",
   "metadata": {
    "ExecuteTime": {
     "end_time": "2023-07-04T13:23:01.446860Z",
     "start_time": "2023-07-04T13:23:00.687425Z"
    }
   },
   "outputs": [],
   "source": [
    "from sklearn.model_selection import train_test_split\n",
    "x_train,x_test,y_train,y_test=train_test_split(x,y,test_size=0.2,random_state=2)"
   ]
  },
  {
   "cell_type": "code",
   "execution_count": 78,
   "id": "ce4daf75",
   "metadata": {
    "ExecuteTime": {
     "end_time": "2023-07-04T13:24:28.588555Z",
     "start_time": "2023-07-04T13:24:28.561571Z"
    }
   },
   "outputs": [],
   "source": [
    "from sklearn.ensemble import RandomForestClassifier\n",
    "from sklearn.metrics import confusion_matrix\n",
    "from sklearn.metrics import accuracy_score\n",
    "from sklearn.metrics import precision_score"
   ]
  },
  {
   "cell_type": "code",
   "execution_count": 79,
   "id": "d83cfef5",
   "metadata": {
    "ExecuteTime": {
     "end_time": "2023-07-04T13:24:31.374507Z",
     "start_time": "2023-07-04T13:24:31.281564Z"
    }
   },
   "outputs": [],
   "source": [
    "rfc = RandomForestClassifier(n_estimators=50, random_state=2)"
   ]
  },
  {
   "cell_type": "code",
   "execution_count": 80,
   "id": "16dfe5e8",
   "metadata": {
    "ExecuteTime": {
     "end_time": "2023-07-04T13:26:08.870809Z",
     "start_time": "2023-07-04T13:24:33.539327Z"
    }
   },
   "outputs": [
    {
     "name": "stdout",
     "output_type": "stream",
     "text": [
      "0.996755426269859\n",
      "[[4627   15]\n",
      " [  14 4282]]\n",
      "0.9965091924598557\n"
     ]
    }
   ],
   "source": [
    "rfc.fit(x_train,y_train)\n",
    "y_pred=rfc.predict(x_test)\n",
    "print(accuracy_score(y_test,y_pred))\n",
    "print(confusion_matrix(y_test,y_pred))\n",
    "print(precision_score(y_test,y_pred))"
   ]
  },
  {
   "cell_type": "code",
   "execution_count": 81,
   "id": "34d2f35f",
   "metadata": {
    "ExecuteTime": {
     "end_time": "2023-07-04T13:26:12.675768Z",
     "start_time": "2023-07-04T13:26:12.655782Z"
    }
   },
   "outputs": [],
   "source": [
    "from sklearn.metrics import classification_report"
   ]
  },
  {
   "cell_type": "code",
   "execution_count": 82,
   "id": "2c09c54f",
   "metadata": {
    "ExecuteTime": {
     "end_time": "2023-07-04T13:26:14.968158Z",
     "start_time": "2023-07-04T13:26:14.908195Z"
    }
   },
   "outputs": [
    {
     "name": "stdout",
     "output_type": "stream",
     "text": [
      "Classification report:\n",
      "              precision    recall  f1-score   support\n",
      "\n",
      "           0       1.00      1.00      1.00      4642\n",
      "           1       1.00      1.00      1.00      4296\n",
      "\n",
      "    accuracy                           1.00      8938\n",
      "   macro avg       1.00      1.00      1.00      8938\n",
      "weighted avg       1.00      1.00      1.00      8938\n",
      "\n"
     ]
    }
   ],
   "source": [
    "print(\"Classification report:\")\n",
    "print(classification_report(y_test,y_pred))"
   ]
  },
  {
   "cell_type": "code",
   "execution_count": 85,
   "id": "c4bf0a08",
   "metadata": {
    "ExecuteTime": {
     "end_time": "2023-07-04T13:34:52.434267Z",
     "start_time": "2023-07-04T13:34:52.271354Z"
    }
   },
   "outputs": [
    {
     "data": {
      "text/plain": [
       "['model.joblib']"
      ]
     },
     "execution_count": 85,
     "metadata": {},
     "output_type": "execute_result"
    }
   ],
   "source": [
    "import joblib\n",
    "filename = \"model.joblib\"\n",
    "joblib.dump(rfc,filename)"
   ]
  },
  {
   "cell_type": "code",
   "execution_count": 86,
   "id": "587f9b43",
   "metadata": {
    "ExecuteTime": {
     "end_time": "2023-07-04T13:35:37.196259Z",
     "start_time": "2023-07-04T13:35:15.986885Z"
    }
   },
   "outputs": [
    {
     "data": {
      "text/plain": [
       "['tf-idf.joblib']"
      ]
     },
     "execution_count": 86,
     "metadata": {},
     "output_type": "execute_result"
    }
   ],
   "source": [
    "tfidf_obj = vectorizer.fit(data['text'])\n",
    "joblib.dump(tfidf_obj, 'tf-idf.joblib')"
   ]
  },
  {
   "cell_type": "code",
   "execution_count": 91,
   "id": "e0b36d46",
   "metadata": {
    "ExecuteTime": {
     "end_time": "2023-07-04T13:40:41.672567Z",
     "start_time": "2023-07-04T13:40:40.015168Z"
    }
   },
   "outputs": [],
   "source": [
    "tf_idf_converter = joblib.load(\"tf-idf.joblib\")\n",
    "classifier= joblib.load(\"model.joblib\")"
   ]
  },
  {
   "cell_type": "code",
   "execution_count": 99,
   "id": "9cf1d09b",
   "metadata": {
    "ExecuteTime": {
     "end_time": "2023-07-04T13:44:55.809716Z",
     "start_time": "2023-07-04T13:44:55.779736Z"
    }
   },
   "outputs": [],
   "source": [
    "sent = [\"WEST PALM BEACH, Fla (Reuters) - President Donald Trump said on Thursday he believes he will be fairly treated in a special counsel investigation into Russian meddling in the U.S. presidential election, but said he did not know how long the probe would last. The federal investigation has hung over Trump\u0019s White House since he took office almost a year ago, and some Trump allies have in recent weeks accused the team of Justice Department Special Counsel Robert Mueller of being biased against the Republican president. But in an interview with the New York Times, Trump appeared to shrug off concerns about the investigation, which was prompted by U.S. intelligence agencies\u0019 conclusion that Russia tried to help Trump defeat Democrat Hillary Clinton by hacking and releasing embarrassing emails and disseminating propaganda. \u001c",
    "There\u0019s been no collusion. But I think he\u0019s going to be fair,\u001d",
    " Trump said in what the Times described as a 30-minute impromptu interview at his golf club in West Palm Beach, Florida. Mueller has charged four Trump associates in his investigation. Russia has denied interfering in the U.S. election. U.S. Deputy Attorney General Rod Rosenstein said this month that he was not aware of any impropriety by Mueller\u0019s team. Trump\u0019s lawyers have been saying for weeks that they had expected the Mueller investigation to wrap up quickly, possibly by the end of 2017. Mueller has not commented on how long it will last. Trump told the Times that he did not know how long the investigation would take. \u001c",
    "Timing-wise, I can\u0019t tell you. I just don\u0019t know,\u001d",
    " he said. Trump said he thought a prolonged probe \u001c",
    "makes the country look bad\u001d",
    " but said it has energized his core supporters. \u001c",
    "What it\u0019s done is, it\u0019s really angered the base and made the base stronger. My base is strong than it\u0019s ever been,\u001d",
    " he said. The interview was a rare break in Trump\u0019s Christmas vacation in Florida. He has golfed each day aside from Christmas Day, and mainly kept a low profile, apart from the occasional flurry of tweets. He spent one day golfing with Republican Senator David Perdue from Georgia, who has pushed legislation to cap immigration numbers, and had dinner on Thursday with Commerce Secretary Wilbur Ross, an international trade hawk. Trump told the Times he hoped to work with Democrats in the U.S. Congress on a spending plan to fix roads and other infrastructure, and on protections for a group of undocumented immigrants who were brought to the United States as children. Trump spoke about trade issues, saying he had backed off his hard line on Chinese trade practices in the hope that Beijing would do more to pressure North Korea to end its nuclear and missile testing program. He said he had been disappointed in the results. He also complained about the North American Free Trade Agreement (NAFTA), which his administration is attempting to renegotiate in talks with Mexico and Canada. Trump said Canadian Prime Minister Justin Trudeau had played down the importance of Canadian oil and lumber exports to the United States when looking at the balance of trade between the two countries. \u001c",
    "If I don\u0019t make the right deal, I\u0019ll terminate NAFTA in two seconds. But we\u0019re doing pretty good,\u001d",
    " Trump said.\"]"
   ]
  },
  {
   "cell_type": "code",
   "execution_count": 100,
   "id": "890d3cd6",
   "metadata": {
    "ExecuteTime": {
     "end_time": "2023-07-04T13:44:57.747368Z",
     "start_time": "2023-07-04T13:44:57.716387Z"
    }
   },
   "outputs": [],
   "source": [
    "prediction = classifier.predict(tf_idf_converter.transform(sent))\n",
    "\n"
   ]
  },
  {
   "cell_type": "code",
   "execution_count": 101,
   "id": "7f032616",
   "metadata": {
    "ExecuteTime": {
     "end_time": "2023-07-04T13:44:59.948408Z",
     "start_time": "2023-07-04T13:44:59.926419Z"
    }
   },
   "outputs": [
    {
     "name": "stdout",
     "output_type": "stream",
     "text": [
      "[1]\n",
      "The news is True\n"
     ]
    }
   ],
   "source": [
    "print(prediction)\n",
    "if (prediction[0]==0):\n",
    "    print('The news is FAKE')\n",
    "else:\n",
    "    print('The news is True')"
   ]
  },
  {
   "cell_type": "code",
   "execution_count": null,
   "id": "ac09a1a2",
   "metadata": {
    "ExecuteTime": {
     "end_time": "2023-07-04T13:16:28.849694Z",
     "start_time": "2023-07-04T13:16:28.849694Z"
    }
   },
   "outputs": [],
   "source": [
    "prediction=rfc.predict()\n",
    "    \n",
    "print(prediction)\n",
    "if (prediction[0]==0):\n",
    "    print('The news is FAKE')\n",
    "else:\n",
    "    print('The news is True')"
   ]
  },
  {
   "cell_type": "code",
   "execution_count": 102,
   "id": "959e107e",
   "metadata": {
    "ExecuteTime": {
     "end_time": "2023-07-04T14:15:21.268606Z",
     "start_time": "2023-07-04T14:15:21.212640Z"
    }
   },
   "outputs": [],
   "source": [
    "import pickle\n",
    "pickle_out=open(\"rfc.pkl\",\"wb\")\n",
    "pickle.dump(rfc,pickle_out)\n",
    "pickle_out.close()"
   ]
  },
  {
   "cell_type": "code",
   "execution_count": 103,
   "id": "2b46a039",
   "metadata": {
    "ExecuteTime": {
     "end_time": "2023-07-04T14:16:56.753840Z",
     "start_time": "2023-07-04T14:16:56.716863Z"
    }
   },
   "outputs": [],
   "source": [
    "pickle_out=open(\"classifier.pkl\",\"wb\")\n",
    "pickle.dump(classifier,pickle_out)\n",
    "pickle_out.close()"
   ]
  },
  {
   "cell_type": "code",
   "execution_count": 104,
   "id": "b083914a",
   "metadata": {
    "ExecuteTime": {
     "end_time": "2023-07-04T14:22:37.622844Z",
     "start_time": "2023-07-04T14:22:37.461941Z"
    }
   },
   "outputs": [],
   "source": [
    "pickle_out=open(\"tf_idf_converter.pkl\",\"wb\")\n",
    "pickle.dump(tf_idf_converter,pickle_out)\n",
    "pickle_out.close()"
   ]
  },
  {
   "cell_type": "code",
   "execution_count": null,
   "id": "83d24aa9",
   "metadata": {},
   "outputs": [],
   "source": []
  }
 ],
 "metadata": {
  "kernelspec": {
   "display_name": "Python 3 (ipykernel)",
   "language": "python",
   "name": "python3"
  },
  "language_info": {
   "codemirror_mode": {
    "name": "ipython",
    "version": 3
   },
   "file_extension": ".py",
   "mimetype": "text/x-python",
   "name": "python",
   "nbconvert_exporter": "python",
   "pygments_lexer": "ipython3",
   "version": "3.10.9"
  },
  "varInspector": {
   "cols": {
    "lenName": 16,
    "lenType": 16,
    "lenVar": 40
   },
   "kernels_config": {
    "python": {
     "delete_cmd_postfix": "",
     "delete_cmd_prefix": "del ",
     "library": "var_list.py",
     "varRefreshCmd": "print(var_dic_list())"
    },
    "r": {
     "delete_cmd_postfix": ") ",
     "delete_cmd_prefix": "rm(",
     "library": "var_list.r",
     "varRefreshCmd": "cat(var_dic_list()) "
    }
   },
   "types_to_exclude": [
    "module",
    "function",
    "builtin_function_or_method",
    "instance",
    "_Feature"
   ],
   "window_display": false
  }
 },
 "nbformat": 4,
 "nbformat_minor": 5
}
